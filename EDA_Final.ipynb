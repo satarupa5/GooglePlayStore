{
 "cells": [
  {
   "cell_type": "markdown",
   "metadata": {},
   "source": [
    "## Importing the requisite libraries"
   ]
  },
  {
   "cell_type": "code",
   "execution_count": 1,
   "metadata": {},
   "outputs": [],
   "source": [
    "import numpy as np\n",
    "import pandas as pd\n",
    "import matplotlib.pyplot as plt\n",
    "%matplotlib inline\n",
    "import seaborn as sns\n",
    "from collections import Counter\n",
    "import warnings\n",
    "warnings.filterwarnings('ignore')"
   ]
  },
  {
   "cell_type": "markdown",
   "metadata": {},
   "source": [
    "## Basic details of the data"
   ]
  },
  {
   "cell_type": "code",
   "execution_count": 2,
   "metadata": {},
   "outputs": [
    {
     "data": {
      "text/html": [
       "<div>\n",
       "<style scoped>\n",
       "    .dataframe tbody tr th:only-of-type {\n",
       "        vertical-align: middle;\n",
       "    }\n",
       "\n",
       "    .dataframe tbody tr th {\n",
       "        vertical-align: top;\n",
       "    }\n",
       "\n",
       "    .dataframe thead th {\n",
       "        text-align: right;\n",
       "    }\n",
       "</style>\n",
       "<table border=\"1\" class=\"dataframe\">\n",
       "  <thead>\n",
       "    <tr style=\"text-align: right;\">\n",
       "      <th></th>\n",
       "      <th>App</th>\n",
       "      <th>Category</th>\n",
       "      <th>Rating</th>\n",
       "      <th>Reviews</th>\n",
       "      <th>Size</th>\n",
       "      <th>Installs</th>\n",
       "      <th>Type</th>\n",
       "      <th>Price</th>\n",
       "      <th>Content Rating</th>\n",
       "      <th>Genres</th>\n",
       "      <th>Last Updated</th>\n",
       "      <th>Current Ver</th>\n",
       "      <th>Android Ver</th>\n",
       "    </tr>\n",
       "  </thead>\n",
       "  <tbody>\n",
       "    <tr>\n",
       "      <td>0</td>\n",
       "      <td>Photo Editor &amp; Candy Camera &amp; Grid &amp; ScrapBook</td>\n",
       "      <td>ART_AND_DESIGN</td>\n",
       "      <td>4.1</td>\n",
       "      <td>159</td>\n",
       "      <td>19M</td>\n",
       "      <td>10,000+</td>\n",
       "      <td>Free</td>\n",
       "      <td>0</td>\n",
       "      <td>Everyone</td>\n",
       "      <td>Art &amp; Design</td>\n",
       "      <td>January 7, 2018</td>\n",
       "      <td>1.0.0</td>\n",
       "      <td>4.0.3 and up</td>\n",
       "    </tr>\n",
       "    <tr>\n",
       "      <td>1</td>\n",
       "      <td>Coloring book moana</td>\n",
       "      <td>ART_AND_DESIGN</td>\n",
       "      <td>3.9</td>\n",
       "      <td>967</td>\n",
       "      <td>14M</td>\n",
       "      <td>500,000+</td>\n",
       "      <td>Free</td>\n",
       "      <td>0</td>\n",
       "      <td>Everyone</td>\n",
       "      <td>Art &amp; Design;Pretend Play</td>\n",
       "      <td>January 15, 2018</td>\n",
       "      <td>2.0.0</td>\n",
       "      <td>4.0.3 and up</td>\n",
       "    </tr>\n",
       "  </tbody>\n",
       "</table>\n",
       "</div>"
      ],
      "text/plain": [
       "                                              App        Category  Rating  \\\n",
       "0  Photo Editor & Candy Camera & Grid & ScrapBook  ART_AND_DESIGN     4.1   \n",
       "1                             Coloring book moana  ART_AND_DESIGN     3.9   \n",
       "\n",
       "  Reviews Size  Installs  Type Price Content Rating  \\\n",
       "0     159  19M   10,000+  Free     0       Everyone   \n",
       "1     967  14M  500,000+  Free     0       Everyone   \n",
       "\n",
       "                      Genres      Last Updated Current Ver   Android Ver  \n",
       "0               Art & Design   January 7, 2018       1.0.0  4.0.3 and up  \n",
       "1  Art & Design;Pretend Play  January 15, 2018       2.0.0  4.0.3 and up  "
      ]
     },
     "execution_count": 2,
     "metadata": {},
     "output_type": "execute_result"
    }
   ],
   "source": [
    "apps = pd.read_csv(\"./googleplaystore.csv\", dtype={'Rating': np.float32})\n",
    "apps.head(2)\n"
   ]
  },
  {
   "cell_type": "code",
   "execution_count": 3,
   "metadata": {},
   "outputs": [
    {
     "data": {
      "text/plain": [
       "App               9660\n",
       "Category            34\n",
       "Rating              40\n",
       "Reviews           6002\n",
       "Size               462\n",
       "Installs            22\n",
       "Type                 3\n",
       "Price               93\n",
       "Content Rating       6\n",
       "Genres             120\n",
       "Last Updated      1378\n",
       "Current Ver       2832\n",
       "Android Ver         33\n",
       "dtype: int64"
      ]
     },
     "execution_count": 3,
     "metadata": {},
     "output_type": "execute_result"
    }
   ],
   "source": [
    "apps.nunique()"
   ]
  },
  {
   "cell_type": "code",
   "execution_count": 4,
   "metadata": {},
   "outputs": [
    {
     "name": "stdout",
     "output_type": "stream",
     "text": [
      "<class 'pandas.core.frame.DataFrame'>\n",
      "RangeIndex: 10841 entries, 0 to 10840\n",
      "Data columns (total 13 columns):\n",
      "App               10841 non-null object\n",
      "Category          10841 non-null object\n",
      "Rating            9367 non-null float32\n",
      "Reviews           10841 non-null object\n",
      "Size              10841 non-null object\n",
      "Installs          10841 non-null object\n",
      "Type              10840 non-null object\n",
      "Price             10841 non-null object\n",
      "Content Rating    10840 non-null object\n",
      "Genres            10841 non-null object\n",
      "Last Updated      10841 non-null object\n",
      "Current Ver       10833 non-null object\n",
      "Android Ver       10838 non-null object\n",
      "dtypes: float32(1), object(12)\n",
      "memory usage: 1.0+ MB\n"
     ]
    }
   ],
   "source": [
    "apps.info()"
   ]
  },
  {
   "cell_type": "code",
   "execution_count": 5,
   "metadata": {},
   "outputs": [
    {
     "data": {
      "text/plain": [
       "True"
      ]
     },
     "execution_count": 5,
     "metadata": {},
     "output_type": "execute_result"
    }
   ],
   "source": [
    "\"ESPN\" in apps.iloc[2959,0]\n"
   ]
  },
  {
   "cell_type": "code",
   "execution_count": 6,
   "metadata": {},
   "outputs": [
    {
     "data": {
      "text/html": [
       "<div>\n",
       "<style scoped>\n",
       "    .dataframe tbody tr th:only-of-type {\n",
       "        vertical-align: middle;\n",
       "    }\n",
       "\n",
       "    .dataframe tbody tr th {\n",
       "        vertical-align: top;\n",
       "    }\n",
       "\n",
       "    .dataframe thead th {\n",
       "        text-align: right;\n",
       "    }\n",
       "</style>\n",
       "<table border=\"1\" class=\"dataframe\">\n",
       "  <thead>\n",
       "    <tr style=\"text-align: right;\">\n",
       "      <th></th>\n",
       "      <th>App</th>\n",
       "      <th>Category</th>\n",
       "      <th>Rating</th>\n",
       "      <th>Reviews</th>\n",
       "      <th>Size</th>\n",
       "      <th>Installs</th>\n",
       "      <th>Type</th>\n",
       "      <th>Price</th>\n",
       "      <th>Content Rating</th>\n",
       "      <th>Genres</th>\n",
       "      <th>Last Updated</th>\n",
       "      <th>Current Ver</th>\n",
       "      <th>Android Ver</th>\n",
       "    </tr>\n",
       "  </thead>\n",
       "  <tbody>\n",
       "    <tr>\n",
       "      <td>2959</td>\n",
       "      <td>ESPN</td>\n",
       "      <td>SPORTS</td>\n",
       "      <td>4.2</td>\n",
       "      <td>521138</td>\n",
       "      <td>Varies with device</td>\n",
       "      <td>10,000,000+</td>\n",
       "      <td>Free</td>\n",
       "      <td>0</td>\n",
       "      <td>Everyone 10+</td>\n",
       "      <td>Sports</td>\n",
       "      <td>July 19, 2018</td>\n",
       "      <td>Varies with device</td>\n",
       "      <td>5.0 and up</td>\n",
       "    </tr>\n",
       "    <tr>\n",
       "      <td>3010</td>\n",
       "      <td>ESPN</td>\n",
       "      <td>SPORTS</td>\n",
       "      <td>4.2</td>\n",
       "      <td>521138</td>\n",
       "      <td>Varies with device</td>\n",
       "      <td>10,000,000+</td>\n",
       "      <td>Free</td>\n",
       "      <td>0</td>\n",
       "      <td>Everyone 10+</td>\n",
       "      <td>Sports</td>\n",
       "      <td>July 19, 2018</td>\n",
       "      <td>Varies with device</td>\n",
       "      <td>5.0 and up</td>\n",
       "    </tr>\n",
       "    <tr>\n",
       "      <td>3018</td>\n",
       "      <td>ESPN</td>\n",
       "      <td>SPORTS</td>\n",
       "      <td>4.2</td>\n",
       "      <td>521138</td>\n",
       "      <td>Varies with device</td>\n",
       "      <td>10,000,000+</td>\n",
       "      <td>Free</td>\n",
       "      <td>0</td>\n",
       "      <td>Everyone 10+</td>\n",
       "      <td>Sports</td>\n",
       "      <td>July 19, 2018</td>\n",
       "      <td>Varies with device</td>\n",
       "      <td>5.0 and up</td>\n",
       "    </tr>\n",
       "    <tr>\n",
       "      <td>3048</td>\n",
       "      <td>ESPN</td>\n",
       "      <td>SPORTS</td>\n",
       "      <td>4.2</td>\n",
       "      <td>521140</td>\n",
       "      <td>Varies with device</td>\n",
       "      <td>10,000,000+</td>\n",
       "      <td>Free</td>\n",
       "      <td>0</td>\n",
       "      <td>Everyone 10+</td>\n",
       "      <td>Sports</td>\n",
       "      <td>July 19, 2018</td>\n",
       "      <td>Varies with device</td>\n",
       "      <td>5.0 and up</td>\n",
       "    </tr>\n",
       "    <tr>\n",
       "      <td>3060</td>\n",
       "      <td>ESPN</td>\n",
       "      <td>SPORTS</td>\n",
       "      <td>4.2</td>\n",
       "      <td>521140</td>\n",
       "      <td>Varies with device</td>\n",
       "      <td>10,000,000+</td>\n",
       "      <td>Free</td>\n",
       "      <td>0</td>\n",
       "      <td>Everyone 10+</td>\n",
       "      <td>Sports</td>\n",
       "      <td>July 19, 2018</td>\n",
       "      <td>Varies with device</td>\n",
       "      <td>5.0 and up</td>\n",
       "    </tr>\n",
       "    <tr>\n",
       "      <td>3072</td>\n",
       "      <td>ESPN</td>\n",
       "      <td>SPORTS</td>\n",
       "      <td>4.2</td>\n",
       "      <td>521140</td>\n",
       "      <td>Varies with device</td>\n",
       "      <td>10,000,000+</td>\n",
       "      <td>Free</td>\n",
       "      <td>0</td>\n",
       "      <td>Everyone 10+</td>\n",
       "      <td>Sports</td>\n",
       "      <td>July 19, 2018</td>\n",
       "      <td>Varies with device</td>\n",
       "      <td>5.0 and up</td>\n",
       "    </tr>\n",
       "    <tr>\n",
       "      <td>4069</td>\n",
       "      <td>ESPN</td>\n",
       "      <td>SPORTS</td>\n",
       "      <td>4.2</td>\n",
       "      <td>521081</td>\n",
       "      <td>Varies with device</td>\n",
       "      <td>10,000,000+</td>\n",
       "      <td>Free</td>\n",
       "      <td>0</td>\n",
       "      <td>Everyone 10+</td>\n",
       "      <td>Sports</td>\n",
       "      <td>July 19, 2018</td>\n",
       "      <td>Varies with device</td>\n",
       "      <td>5.0 and up</td>\n",
       "    </tr>\n",
       "  </tbody>\n",
       "</table>\n",
       "</div>"
      ],
      "text/plain": [
       "       App Category  Rating Reviews                Size     Installs  Type  \\\n",
       "2959  ESPN   SPORTS     4.2  521138  Varies with device  10,000,000+  Free   \n",
       "3010  ESPN   SPORTS     4.2  521138  Varies with device  10,000,000+  Free   \n",
       "3018  ESPN   SPORTS     4.2  521138  Varies with device  10,000,000+  Free   \n",
       "3048  ESPN   SPORTS     4.2  521140  Varies with device  10,000,000+  Free   \n",
       "3060  ESPN   SPORTS     4.2  521140  Varies with device  10,000,000+  Free   \n",
       "3072  ESPN   SPORTS     4.2  521140  Varies with device  10,000,000+  Free   \n",
       "4069  ESPN   SPORTS     4.2  521081  Varies with device  10,000,000+  Free   \n",
       "\n",
       "     Price Content Rating  Genres   Last Updated         Current Ver  \\\n",
       "2959     0   Everyone 10+  Sports  July 19, 2018  Varies with device   \n",
       "3010     0   Everyone 10+  Sports  July 19, 2018  Varies with device   \n",
       "3018     0   Everyone 10+  Sports  July 19, 2018  Varies with device   \n",
       "3048     0   Everyone 10+  Sports  July 19, 2018  Varies with device   \n",
       "3060     0   Everyone 10+  Sports  July 19, 2018  Varies with device   \n",
       "3072     0   Everyone 10+  Sports  July 19, 2018  Varies with device   \n",
       "4069     0   Everyone 10+  Sports  July 19, 2018  Varies with device   \n",
       "\n",
       "     Android Ver  \n",
       "2959  5.0 and up  \n",
       "3010  5.0 and up  \n",
       "3018  5.0 and up  \n",
       "3048  5.0 and up  \n",
       "3060  5.0 and up  \n",
       "3072  5.0 and up  \n",
       "4069  5.0 and up  "
      ]
     },
     "execution_count": 6,
     "metadata": {},
     "output_type": "execute_result"
    }
   ],
   "source": [
    "apps[apps[\"App\"]==\"ESPN\"]"
   ]
  },
  {
   "cell_type": "markdown",
   "metadata": {},
   "source": [
    "Finding Duplicates by name,Appears like while extracting the data, same app was counted more than once, as every other info is same except number of reviews."
   ]
  },
  {
   "cell_type": "code",
   "execution_count": 7,
   "metadata": {},
   "outputs": [
    {
     "name": "stdout",
     "output_type": "stream",
     "text": [
      "798\n"
     ]
    },
    {
     "data": {
      "text/plain": [
       "array(['Quick PDF Scanner + OCR FREE', 'Box', 'Google My Business',\n",
       "       'ZOOM Cloud Meetings', 'join.me - Simple Meetings', 'Zenefits',\n",
       "       'Google Ads', 'Slack', 'FreshBooks Classic', 'Insightly CRM',\n",
       "       'QuickBooks Accounting: Invoicing & Expenses',\n",
       "       'HipChat - Chat Built for Teams', 'Xero Accounting Software',\n",
       "       'MailChimp - Email, Marketing Automation',\n",
       "       'Crew - Free Messaging and Scheduling',\n",
       "       'Asana: organize team projects', 'Google Analytics',\n",
       "       'AdWords Express', 'Accounting App - Zoho Books',\n",
       "       'Invoice & Time Tracking - Zoho',\n",
       "       'Invoice 2go — Professional Invoices and Estimates',\n",
       "       'SignEasy | Sign and Fill PDF and other Documents',\n",
       "       'Genius Scan - PDF Scanner', 'Tiny Scanner - PDF Scanner App',\n",
       "       'Fast Scanner : Free PDF Scan', 'Mobile Doc Scanner (MDScan) Lite',\n",
       "       'TurboScan: scan documents and receipts in PDF',\n",
       "       'Tiny Scanner Pro: PDF Doc Scan', 'Docs To Go™ Free Office Suite',\n",
       "       'OfficeSuite : Free Office + PDF Editor', 'WhatsApp Messenger',\n",
       "       'Messenger – Text and Video Chat for Free',\n",
       "       'imo free video calls and chat', 'Viber Messenger', 'Hangouts',\n",
       "       'WeChat', 'Telegram', 'Who', 'Google Voice', 'Android Messages',\n",
       "       'Firefox Focus: The privacy browser', 'Google Allo',\n",
       "       'Google Chrome: Fast & Secure', 'Firefox Browser fast & private',\n",
       "       'Puffin Web Browser', 'Opera Browser: Fast and Secure',\n",
       "       'Opera Mini - fast web browser',\n",
       "       'UC Browser Mini -Tiny Fast Private & Secure',\n",
       "       'UC Browser - Fast Download Private & Secure',\n",
       "       'Calls & Text by Mo+', 'Call Blocker', 'Gmail',\n",
       "       'Yahoo Mail – Stay Organized', 'free video calls and chat',\n",
       "       'Skype - free IM & video calls', 'Glide - Video Chat Messenger',\n",
       "       'Talkray - Free Calls & Texts', 'LINE: Free Calls & Messages',\n",
       "       'KakaoTalk: Free Calls & Text', 'OkCupid Dating',\n",
       "       'CMB Free Dating App', 'Hily: Dating, Chat, Match, Meet & Hook up',\n",
       "       'Hinge: Dating & Relationships', 'BBW Dating & Plus Size Chat',\n",
       "       'Casual Dating & Adult Singles - Joyride',\n",
       "       'EliteSingles – Dating for Single Professionals',\n",
       "       'Clover Dating App', 'Moco - Chat, Meet People',\n",
       "       'Hot or Not - Find someone right now',\n",
       "       'Just She - Top Lesbian Dating',\n",
       "       'Once - Quality Matches Every day',\n",
       "       'Sudy – Meet Elite & Rich Single',\n",
       "       'muzmatch: Muslim & Arab Singles, Marriage & Dating',\n",
       "       'Chispa, the Dating App for Latino, Latina Singles',\n",
       "       'Blendr - Chat, Flirt & Meet',\n",
       "       'Find Real Love — YouLove Premium Dating',\n",
       "       'Cougar Dating Life : Date Older Women Sugar Mummy',\n",
       "       'stranger chat - anonymous chat',\n",
       "       'Millionaire Match: Rich Singles Dating App',\n",
       "       'Dating for 50 plus Mature Singles – FINALLY',\n",
       "       'Moco+ - Chat, Meet People', 'Chat Rooms, Avatars, Date - Galaxy',\n",
       "       'FastMeet: Chat, Dating, Love', 'Christian Dating For Free App',\n",
       "       'Meet24 - Love, Chat, Singles',\n",
       "       'Black White Interracial Dating - Interracial Match',\n",
       "       'Gay Sugar Daddy Dating & Hookup – Sudy Gay', 'Adult Dirty Emojis',\n",
       "       'Hide App, Private Dating, Safe Chat - PrivacyHider',\n",
       "       'Meet4U - Chat, Love, Singles!', '95Live -SG#1 Live Streaming App',\n",
       "       'O-Star', 'Random Video Chat', 'Black People Meet Singles Date',\n",
       "       'Howlr', 'Free Dating & Flirt Chat - Choice of Love',\n",
       "       'Cardi B Live Stream Video Chat - Prank',\n",
       "       'Chat Kids - Chat Room For Kids',\n",
       "       'Transenger – Ts Dating and Chat for Free',\n",
       "       'BBW Dating & Curvy Singles Chat- LargeFriends', 'MouseMingle',\n",
       "       'FlirtChat - ♥Free Dating/Flirting App♥',\n",
       "       'Live Talk - Free Text and Video Chat',\n",
       "       'Free Cam Girls - Live Webcam',\n",
       "       'Random Video Chat App With Strangers',\n",
       "       'Live Girls Talk - Free Video Chat',\n",
       "       'Girls Live Chat - Free Text & Video Chat',\n",
       "       'Free Dating App - Meet Local Singles - Flirt Chat',\n",
       "       'iPair-Meet, Chat, Dating', 'Free Dating Hook Up Messenger',\n",
       "       'Free Dating App - YoCutie - Flirt, Chat & Meet', 'Khan Academy',\n",
       "       'TED', 'Lumosity: #1 Brain Games & Cognitive Training App',\n",
       "       'Udemy - Online Courses', 'Duolingo: Learn Languages Free',\n",
       "       'Quizlet: Learn Languages & Vocab with Flashcards',\n",
       "       'Coursera: Online courses', 'Udacity - Lifelong Learning',\n",
       "       'edX - Online Courses by Harvard, MIT & more',\n",
       "       'Lynda - Online Training Videos',\n",
       "       'Learn languages, grammar & vocabulary with Memrise', 'Brilliant',\n",
       "       'Babbel – Learn Languages',\n",
       "       'Rosetta Stone: Learn to Speak & Read New Languages',\n",
       "       'Learn English with Wlingua', 'Google Classroom',\n",
       "       'Learn 50 languages', 'Mango Languages: Lovable Language Courses',\n",
       "       'busuu: Learn Languages - Spanish, English & More',\n",
       "       'My Class Schedule: Timetable',\n",
       "       'Socratic - Math Answers & Homework Help', 'ClassDojo',\n",
       "       'HelloTalk — Chat, Speak & Learn Foreign Languages',\n",
       "       'Movies by Flixster, with Rotten Tomatoes', 'IMDb Movies & TV',\n",
       "       'Netflix', 'Tubi TV - Free Movies & TV',\n",
       "       'Crunchyroll - Everything Anime', 'STARZ',\n",
       "       'Crackle - Free TV & Movies', 'CBS - Full Episodes & Live TV',\n",
       "       'Nick', 'Hulu: Stream TV, Movies & more',\n",
       "       'FOX NOW - On Demand & Live TV', 'The CW',\n",
       "       'HISTORY: Watch TV Show Full Episodes & Specials',\n",
       "       'HBO NOW: Stream TV & Movies',\n",
       "       'A&E - Watch Full Episodes of TV Shows', 'VH1',\n",
       "       'Lifetime - Watch Full Episodes & Original Movies',\n",
       "       'BET NOW - Watch Shows', 'Food Network',\n",
       "       'Viki: Asian TV Dramas & Movies',\n",
       "       'Univision NOW - Live TV and On Demand', 'SHOWTIME', 'MTV',\n",
       "       'Comedy Central', 'FOX', 'Telemundo Now',\n",
       "       'Fandango Movies - Times + Tickets', 'Google Pay',\n",
       "       'Wells Fargo Daily Change', 'Credit Karma',\n",
       "       'Robinhood - Investing, No Fees', 'Digit Save Money Automatically',\n",
       "       'Acorns - Invest Spare Change',\n",
       "       'Money Lover: Expense Tracker, Budget Planner',\n",
       "       'Mint: Budget, Bills, Finance', 'Simple - Better Banking',\n",
       "       'PayPal', 'Wells Fargo Mobile', 'Capital One® Mobile',\n",
       "       'Grubhub: Food Delivery',\n",
       "       'Postmates Food Delivery: Order Eats & Alcohol',\n",
       "       \"Domino's Pizza USA\", 'Chick-fil-A',\n",
       "       'Zomato - Restaurant Finder and Food Delivery App',\n",
       "       'Run with Map My Run', 'Weight Loss Running by Verv',\n",
       "       'Nike+ Run Club', 'Runtastic Running App & Mile Tracker',\n",
       "       '8fit Workouts & Meal Planner', 'Daily Yoga - Yoga Fitness Plans',\n",
       "       'Pocket Yoga', 'Calorie Counter - MyFitnessPal',\n",
       "       'Seven - 7 Minute Workout Training Challenge',\n",
       "       'Weight Watchers Mobile', 'Walk with Map My Walk',\n",
       "       'Workout Trainer: fitness coach',\n",
       "       'Nike Training Club - Workouts & Fitness Plans', 'Fitbit Coach',\n",
       "       'Endomondo - Running & Walking', 'Runkeeper - GPS Track Run Walk',\n",
       "       'Lose It! - Calorie Counter', 'Calorie Counter - MyNetDiary',\n",
       "       '10 Best Foods for You', 'MyPlate Calorie Tracker',\n",
       "       'Weight Loss Tracker - RecStyle', 'Calorie Counter by FatSecret',\n",
       "       'Calorie Counter - Macros', 'My Diet Diary Calorie Counter',\n",
       "       'Lark - 24/7 Health Coach', 'Calorie Counter & Diet Tracker',\n",
       "       'MealLogger-Photo Food Journal', 'Health and Nutrition Guide',\n",
       "       'Food Calorie Calculator',\n",
       "       'Relax Meditation: Sleep with Sleep Sounds',\n",
       "       'Meditation Music - Relax, Yoga', '21-Day Meditation Experience',\n",
       "       'Fabulous: Motivate Me! Meditate, Relax, Sleep',\n",
       "       'Calm - Meditate, Sleep, Relax', 'Relax Melodies: Sleep Sounds',\n",
       "       'Simple Habit Meditation', 'Headspace: Meditation & Mindfulness',\n",
       "       'Houzz Interior Design Ideas',\n",
       "       'Mortgage by Zillow: Calculator & Rates', 'Redfin Real Estate',\n",
       "       'Apartment List: Housing, Apt, and Property Rentals',\n",
       "       'Realtor.com Real Estate: Homes for Sale and Rent',\n",
       "       'Trulia Real Estate & Rentals',\n",
       "       'Zillow: Find Houses for Sale & Apartments for Rent',\n",
       "       'Apartments & Rentals - Zillow', 'Trulia Rent Apartments & Homes',\n",
       "       'Apartments.com Rental Search', 'Vaniday - Beauty Booking App',\n",
       "       'StyleSeat', 'JOANN - Crafts & Coupons', 'Fashion in Vogue',\n",
       "       'Wheretoget: Shop in style', 'My Dressing - Fashion closet',\n",
       "       'Chictopia', 'Scarf Fashion Designer', 'Zara', 'Subway Surfers',\n",
       "       'ROBLOX', 'Pou', '8 Ball Pool', 'Clash of Clans',\n",
       "       'Candy Crush Saga', 'Plants vs. Zombies FREE', 'My Talking Angela',\n",
       "       'Bubble Shooter', 'Word Search', 'Candy Crush Soda Saga',\n",
       "       'Fishdom', 'Block Puzzle', 'Clash Royale',\n",
       "       'Sniper 3D Gun Shooter: Free Shooting Games - FPS', 'Granny',\n",
       "       'Galaxy Attack: Alien Shooter', 'Angry Birds Rio',\n",
       "       'Zombie Catchers', 'Zombie Hunter King', 'Temple Run 2',\n",
       "       'Zombie Tsunami', 'Farm Heroes Saga', 'Super Jim Jump - pixel 3d',\n",
       "       'slither.io', 'Angry Birds Classic', 'Flow Free', 'Helix Jump',\n",
       "       'Toon Blast', 'Kick the Buddy', 'Magic Tiles 3', 'Bowmasters',\n",
       "       'Wordscapes', 'Block Craft 3D: Building Simulator Games For Free',\n",
       "       'PUBG MOBILE', 'DRAGON BALL LEGENDS',\n",
       "       'Harry Potter: Hogwarts Mystery', 'MARVEL Strike Force',\n",
       "       'Merge Dragons!', 'Honkai Impact 3rd', 'Toy Blast', 'Homescapes',\n",
       "       'Cooking Fever', 'Gardenscapes', 'Score! Hero',\n",
       "       'Dream League Soccer 2018', 'Fruits Bomb', 'Talking Tom Gold Run',\n",
       "       'My Talking Tom', 'Hill Climb Racing',\n",
       "       'Pixel Art: Color by Number Game', 'Rider', 'Garena Free Fire',\n",
       "       'Miraculous Ladybug & Cat Noir - The Official Game', 'Solitaire',\n",
       "       'Traffic Racer', 'Earn to Die 2', 'Bubble Shooter 2',\n",
       "       'Candy Crush Jelly Saga', 'Cut the Rope FULL FREE',\n",
       "       'Jewels Star: OZ adventure', 'Hungry Shark Evolution',\n",
       "       'Best Fiends - Free Puzzle Game', 'Hill Climb Racing 2',\n",
       "       'Swamp Attack', 'Block Puzzle Classic Legend !',\n",
       "       'DEAD TARGET: FPS Zombie Apocalypse Survival Games',\n",
       "       'YouTube Kids', 'Candy Bomb', 'Princess Coloring Book',\n",
       "       'Hello Kitty Nail Salon', 'Dog Run - Pet Dog Simulator',\n",
       "       'Coloring book moana', 'Barbie™ Fashion Closet',\n",
       "       'Minion Rush: Despicable Me Official Game',\n",
       "       'No.Draw - Colors by Number 2018',\n",
       "       'Super ABC! Learning games for kids! Preschool apps',\n",
       "       'PJ Masks: Moonlight Heroes', 'Hot Wheels: Race Off',\n",
       "       'Farming Simulator 14', 'Mcqueen Coloring pages',\n",
       "       'Monster Truck Driver & Racing', 'Strawberry Shortcake BerryRush',\n",
       "       'DC Super Hero Girls™', 'Toca Kitchen 2',\n",
       "       'Disney Magic Kingdoms: Build Your Own Magical Park',\n",
       "       'Toca Life: City', 'Papumba Academy - Fun Learning For Kids',\n",
       "       'Kids Balloon Pop Game Free 🎈', 'Sounds for Toddlers FREE',\n",
       "       'Elmo Calls by Sesame Street', 'Sago Mini Friends',\n",
       "       'Tee and Mo Bath Time Free', 'Bita and the Animals - Pelos Ares',\n",
       "       'TO-FU Oh!SUSHI', 'DreamWorks Friends', 'Avokiddo Emotions',\n",
       "       'Nighty Night Circus', 'Sago Mini Babies',\n",
       "       \"Dr. Panda & Toto's Treehouse\",\n",
       "       'PlayKids - Educational cartoons and games for kids',\n",
       "       'Baby Panda Care', 'Monster High™', 'Shopkins World!',\n",
       "       'DisneyNOW – TV Shows & Games', 'Equestria Girls',\n",
       "       'Frozen Free Fall', 'Thomas & Friends: Race On!',\n",
       "       'Inside Out Thought Bubbles', 'School of Dragons',\n",
       "       'Peak – Brain Games & Training', 'Period Tracker',\n",
       "       'Vargo Anesthesia Mega App', 'Monash Uni Low FODMAP Diet',\n",
       "       'mySugr: the blood sugar tracker made just for you',\n",
       "       'Human Anatomy Atlas 2018: Complete 3D Human Body', 'ASCCP Mobile',\n",
       "       'Paramedic Protocol Provider', '2017 EMRA Antibiotic Guide',\n",
       "       'Essential Anatomy 3', 'EMT PASS', 'Block Buddy',\n",
       "       'EMT Review Plus', 'Journal Club: Medicine', 'Pedi STAT',\n",
       "       'AnatomyMapp', 'Diabetes & Diet Tracker',\n",
       "       'A Manual of Acupuncture', 'PTA Content Master',\n",
       "       'Muscle Premium - Human Anatomy, Kinesiology, Bones',\n",
       "       'Cardiac diagnosis (heart rate, arrhythmia)',\n",
       "       'Medical ID - In Case of Emergency (ICE)',\n",
       "       'IBM Micromedex Drug Info', 'Advanced Comprehension Therapy',\n",
       "       'Hospitalist Handbook', 'Teladoc Member',\n",
       "       'Ada - Your Health Guide',\n",
       "       'Ovia Fertility Tracker & Ovulation Calculator',\n",
       "       'Youper - AI Therapy', 'MoodSpace',\n",
       "       'Super Hearing Super Ear Amplifier', 'Penn State Health OnDemand',\n",
       "       'ScriptSave WellRx Rx Discounts', 'Free Blood Pressure',\n",
       "       'All Mental disorders', 'Nurse Grid', 'JH Blood Pressure Monitor',\n",
       "       'Blood Pressure', 'RT 516 VET', 'Anthem Anywhere', 'Sway Medical',\n",
       "       \"fred's Pharmacy\", 'Breastfeeding Tracker Baby Log',\n",
       "       'Banfield Pet Health Tracker', '1800 Contacts - Lens Store',\n",
       "       'TextNow - free text + calls', 'Tumblr', 'Snapchat', 'Instagram',\n",
       "       'Periscope - Live Video', 'Pinterest',\n",
       "       'MeetMe: Chat & Meet New People',\n",
       "       'ooVoo Video Calls, Messaging & Stories', 'LinkedIn',\n",
       "       'Tango - Live Video Broadcast', 'SayHi Chat, Meet New People',\n",
       "       'Tapatalk - 100,000+ Forums', 'Badoo - Free Chat & Dating App',\n",
       "       'Nextdoor - Local neighborhood news & classifieds', 'Meetup',\n",
       "       'Text Free: WiFi Calling App', 'textPlus: Free Text & Calls',\n",
       "       'POF Free Dating App', 'Tagged - Meet, Chat & Dating', 'LOVOO',\n",
       "       'SKOUT - Meet, Chat, Go Live', 'Jaumo Dating, Flirt & Live Video',\n",
       "       'Couple - Relationship App', 'Wish - Shopping Made Fun',\n",
       "       'SnipSnap Coupon App', 'Extreme Coupon Finder',\n",
       "       'Checkout 51: Grocery coupons', 'The Coupons App',\n",
       "       'RetailMeNot - Coupons, Deals & Discount Shopping',\n",
       "       'Groupon - Shop Deals, Discounts & Coupons',\n",
       "       'Stocard - Rewards Cards Wallet',\n",
       "       'eBay: Buy & Sell this Summer - Discover Deals Now!',\n",
       "       'Gyft - Mobile Gift Card Wallet',\n",
       "       'Shopkick: Free Gift Cards, Shop Rewards & Deals',\n",
       "       'Shopular: Coupons, Weekly Ads & Shopping Deals',\n",
       "       'Carousell: Snap-Sell, Chat-Buy', 'Walmart',\n",
       "       'Ibotta: Cash Back Savings, Rewards & Coupons App',\n",
       "       'AliExpress - Smarter Shopping, Better Living',\n",
       "       'LivingSocial - Local Deals', 'Amazon Shopping',\n",
       "       'Poshmark - Buy & Sell Fashion', 'Target - now with Cartwheel',\n",
       "       'ZALORA Fashion Shopping', 'Fancy',\n",
       "       \"Modcloth – Unique Indie Women's Fashion & Style\",\n",
       "       \"JackThreads: Men's Shopping\",\n",
       "       'Zappos – Shoe shopping made simple', 'Wanelo Shopping',\n",
       "       'Etsy: Handmade & Vintage Goods', 'Slickdeals: Coupons & Shopping',\n",
       "       'ASOS', 'Google Photos',\n",
       "       'Shutterfly: Free Prints, Photo Books, Cards, Gifts',\n",
       "       'InstaBeauty -Makeup Selfie Cam', 'B612 - Beauty & Filter Camera',\n",
       "       'BeautyPlus - Easy Photo Editor & Selfie Camera',\n",
       "       'YouCam Perfect - Selfie Photo Editor',\n",
       "       'Muzy - Share photos & collages',\n",
       "       'QuickPic - Photo Gallery with Google Drive Support', 'Flickr',\n",
       "       'Open Camera', 'Camera for Android',\n",
       "       'Cymera Camera- Photo Editor, Filter,Collage,Layout',\n",
       "       'Candy Camera - selfie, beauty camera, photo editor',\n",
       "       'Camera360: Selfie Photo Editor with Funny Sticker',\n",
       "       'Facetune - For Free',\n",
       "       'Photo Editor Selfie Camera Filter & Mirror Image',\n",
       "       'HD Camera for Android', 'Photo Editor Pro',\n",
       "       'YouCam Makeup - Magic Selfie Makeovers', 'Photo Editor-',\n",
       "       'Photo Editor',\n",
       "       'Adobe Photoshop Express:Photo Editor Collage Maker',\n",
       "       'InstaSize Photo Filters & Collage Editor',\n",
       "       'CBS Sports App - Scores, News, Stats & Watch Live',\n",
       "       'Yahoo Fantasy Sports - #1 Rated Fantasy App', 'ESPN', 'NFL',\n",
       "       'Bleacher Report: sports news, scores, & highlights',\n",
       "       'ESPN Fantasy Sports',\n",
       "       'theScore: Live Sports Scores, News, Stats & Videos', 'MLB At Bat',\n",
       "       'WatchESPN', 'Hole19: Golf GPS App, Rangefinder & Scorecard',\n",
       "       'CBS Sports Fantasy',\n",
       "       'Yahoo Sports - scores, stats, news, & highlights',\n",
       "       'FotMob - Live Soccer Scores', 'US Open Tennis Championships 2018',\n",
       "       'FIFA - Tournaments, Soccer News & Live Scores',\n",
       "       'Golfshot: Golf GPS + Tee Times', 'BBC Sport', 'MLB Ballpark',\n",
       "       'FOX Sports: Live Streaming, Scores & News', 'Fantasy Football',\n",
       "       'PGA TOUR', 'UFC', 'trivago: Hotels & Travel',\n",
       "       'Expedia Hotels, Flights & Car Rental Travel Deals',\n",
       "       'TripAdvisor Hotels Flights Restaurants Attractions', 'Skyscanner',\n",
       "       'Booking.com Travel Deals',\n",
       "       'Priceline Hotel Deals, Rental Cars & Flights', 'United Airlines',\n",
       "       'Southwest Airlines', 'Hopper - Watch & Book Flights', 'Fly Delta',\n",
       "       'KAYAK Flights, Hotels & Cars', 'American Airlines',\n",
       "       'Orbitz - Hotels, Flights & Package Deals',\n",
       "       'Hotels.com: Book Hotel Rooms & Find Vacation Deals',\n",
       "       'Hostelworld: Hostels & Cheap Hotels Travel App', 'Airbnb',\n",
       "       'HotelTonight: Book amazing deals at great hotels',\n",
       "       'Maps - Navigate & Explore', 'Google Street View', 'Calculator',\n",
       "       'Gboard - the Google Keyboard', 'ZEDGE™ Ringtones & Wallpapers',\n",
       "       'Nova Launcher', 'Apex Launcher', 'Smart Launcher 5',\n",
       "       'Google Keep', 'Evernote – Organizer, Planner for Notes & Memos',\n",
       "       'ES File Explorer File Manager', 'Microsoft Word', 'Google Drive',\n",
       "       'Adobe Acrobat Reader', 'Google PDF Viewer', 'Microsoft Excel',\n",
       "       'Google Docs', 'Microsoft PowerPoint', 'Microsoft OneNote',\n",
       "       'Google Calendar', 'Wunderlist: To-Do List & Tasks',\n",
       "       'Any.do: To-do list, Calendar, Reminders & Planner',\n",
       "       'Todoist: To-do lists for task management & errands',\n",
       "       'Planner Pro-Personal Organizer', 'Microsoft OneDrive', 'Dropbox',\n",
       "       'MX Player', 'Video Editor', 'Google News',\n",
       "       'Flipboard: News For Our Time', 'BBC News',\n",
       "       'Fox News – Breaking News, Live Video & News Alerts', 'USA TODAY',\n",
       "       'CNN Breaking US & World News', 'Twitter', 'NPR News',\n",
       "       'Haystack TV: Local & World News - Free',\n",
       "       'ABC News - US & World News', 'NBC News',\n",
       "       'The Wall Street Journal: Business & Market News',\n",
       "       'NYTimes - Latest News', 'Newsroom: News Worth Sharing',\n",
       "       'BuzzFeed: News, Tasty, Quizzes', 'Flashlight', 'Agar.io',\n",
       "       'LEGO® Juniors Create & Cruise', 'Google Translate', 'Pokémon GO',\n",
       "       'PAC-MAN', 'Colorfy: Coloring Book for Adults - Free', 'YouTube',\n",
       "       \"Alto's Adventure\", 'Facebook',\n",
       "       'VPN Free - Betternet Hotspot VPN & Private Browser',\n",
       "       'EMT Tutor NREMT-B Study Guide', 'EMT-B Pocket Prep',\n",
       "       'Diary with lock', 'C Programming', 'CppDroid - C/C++ IDE',\n",
       "       'Learn C++', 'Google Duo - High Quality Video Calls',\n",
       "       'Crossy Road', 'E*TRADE Mobile', 'WWE', 'Amazon Kindle',\n",
       "       'Microsoft Edge', 'Microsoft Outlook', 'Ebook Reader',\n",
       "       'Flipkart Online Shopping App', 'Facebook Lite',\n",
       "       'Messenger Lite: Free Calls & Messages',\n",
       "       'imo beta free calls and text', 'Geometry Dash World', 'Google+',\n",
       "       'Google', 'G Cloud Backup', 'H&M', 'H TV', 'Talking Ben the Dog',\n",
       "       'Sonic Dash', 'Talkatone: Free Texts, Calls & Phone Number',\n",
       "       'Textgram - write on photos', 'Jetpack Joyride',\n",
       "       'Anger of stick 5 : zombie', 'Turbo FAST', 'K PLUS',\n",
       "       'PowerDirector Video Editor App: 4K, Slow Mo & More',\n",
       "       'Fuzzy Numbers: Pre-K Number Foundation',\n",
       "       'LiveMe - Video chat, new friends, and make money',\n",
       "       'letgo: Buy & Sell Used Stuff, Cars & Real Estate', 'Love Balls',\n",
       "       'Last Day on Earth: Survival', 'Minecraft', 'MEGA',\n",
       "       'I’m Expecting - Pregnancy App', 'Diabetes:M',\n",
       "       'PicsArt Photo Studio: Collage Maker & Pic Editor', 'Quora',\n",
       "       'SHAREit - Transfer & Share',\n",
       "       'Topbuzz: Breaking News, Videos & Funny GIFs',\n",
       "       'Twitch: Livestream Multiplayer Games & Esports', 'myAT&T',\n",
       "       'Truecaller: Caller ID, SMS spam blocking & Dialer',\n",
       "       'Showtime Anytime', 'Uber', 'VLC for Android', 'Vigo Video',\n",
       "       'Wattpad 📖 Free Books',\n",
       "       'Waze - GPS, Maps, Traffic Alerts & Live Navigation',\n",
       "       'Dating App, Flirt & Chat : W-Match',\n",
       "       'WPS Office - Word, Docs, PDF, Note, Slide & Sheet',\n",
       "       'LINE WEBTOON - Free Comics', 'WhatsApp Business', 'We Heart It',\n",
       "       'Telegram X', 'Share Music & Transfer Files - Xender',\n",
       "       'Yandex Browser with Protect', 'YouTube Studio', 'PBS KIDS Video',\n",
       "       'YouTube Gaming',\n",
       "       'GO Keyboard - Emoticon keyboard, Free Theme, GIF',\n",
       "       'Zello PTT Walkie Talkie',\n",
       "       'Z Camera - Photo Editor, Beauty Selfie, Collage',\n",
       "       'Six Pack in 30 Days - Abs Workout', 'Angry Birds 2',\n",
       "       'AC - Tips & News for Android™',\n",
       "       'CM Browser - Ad Blocker , Fast Download , Privacy',\n",
       "       'Mobi Calculator free & AD free!', 'Flipp - Weekly Shopping',\n",
       "       'Camera FV-5 Lite', 'All Football - Latest News & Videos',\n",
       "       'Maricopa AH', 'Animal Jam - Play Wild!', 'RULES OF SURVIVAL',\n",
       "       'Amazon for Tablets', 'Final Fantasy XV: A New Empire',\n",
       "       'The Sims™ FreePlay', 'Text free - Free Text + Call',\n",
       "       '365Scores - Live Scores', 'DINO HUNTER: DEADLY SHORES',\n",
       "       'AP Mobile - Breaking News', 'Reuters News',\n",
       "       'AccuWeather: Daily Forecast & Live Weather Reports',\n",
       "       'Moovit: Bus Time & Train Time Live Info', 'Jurassic World™ Alive',\n",
       "       'Overstock – Home Decor, Furniture Shopping',\n",
       "       'Choices: Stories You Play',\n",
       "       'Runtastic Sleep Better: Sleep Cycle & Smart Alarm',\n",
       "       'Ringtone Maker', 'Plants vs. Zombies™ Heroes',\n",
       "       'CM FILE MANAGER HD',\n",
       "       'realestate.com.au - Buy, Rent & Sell Property',\n",
       "       'Video Player All Format', 'DEER HUNTER 2018', 'Google Play Games',\n",
       "       'ai.type Free Emoji Keyboard', 'Manga AZ - Manga Comic Reader',\n",
       "       'British Airways', 'Anthem BC Anywhere',\n",
       "       'Transit: Real-Time Transit App', 'PMHNP-BC Pocket Prep',\n",
       "       'Backgrounds HD (Wallpapers)', 'Blur Image Background',\n",
       "       'Newegg Mobile', 'English Dictionary - Offline',\n",
       "       'English Grammar Test', 'Daily Manga - Comic & Webtoon',\n",
       "       'BBM - Free Calls & Messages', 'BeyondMenu Food Delivery',\n",
       "       'NOOK: Read eBooks & Magazines', 'NOOK App for NOOK Devices',\n",
       "       'HBO GO: Stream with TV Package', 'No Crop & Square for Instagram',\n",
       "       'Hungry Shark World', 'iBP Blood Pressure',\n",
       "       'Blood Pressure Log - MyDiary', 'Blood Pressure(BP) Diary',\n",
       "       'BP Journal - Blood Pressure Diary', 'Blood Pressure Monitor',\n",
       "       'Blood Pressure Companion', 'High Blood Pressure Symptoms',\n",
       "       'QR Scanner & Barcode Scanner 2018', 'Camera FV-5',\n",
       "       'Camera MX - Free Photo & Video Camera', 'Cardboard',\n",
       "       'Maps & GPS Navigation — OsmAnd', 'Beautiful Widgets Pro',\n",
       "       'Beautiful Widgets Free', 'HD Widgets',\n",
       "       'Color by Number – New Coloring Book', 'Photo Editor by Aviary',\n",
       "       'UNICORN - Color By Number & Pixel Art Coloring',\n",
       "       '420 BZ Budeze Delivery', 'BZWBK24 mobile',\n",
       "       'Zoosk Dating App: Meet Singles',\n",
       "       'Cricbuzz - Live Cricket Scores & News',\n",
       "       'Cheapflights – Flight Search', 'Chrome Beta', 'Chrome Dev',\n",
       "       'CJmall', 'Castle Clash: Heroes of the Empire US',\n",
       "       'CM Launcher 3D - Theme, Wallpapers, Efficient',\n",
       "       'CM Locker - Security Lockscreen', 'CM Flashlight (Compass, SOS)',\n",
       "       'Ruler', 'Cartoon Network App', 'LEGO® TV', 'Brit + Co',\n",
       "       'CT Scan Cross Sectional Anatomy', 'Shadow Fight 2',\n",
       "       'Curriculum vitae App CV Builder Free Resume Maker', 'CW Seed',\n",
       "       'Camera360 Lite - Selfie Camera',\n",
       "       'Mapy.cz - Cycling & Hiking offline maps',\n",
       "       'Face Filter, Selfie Editor - Sweet Camera', 'Metal Soldiers 2',\n",
       "       \"COOKING MAMA Let's Cook!\", 'Run Sausage Run!', 'Knife Hit',\n",
       "       'DC Comics', 'MARVEL Contest of Champions',\n",
       "       'wetter.com - Weather and Radar',\n",
       "       'CallApp: Caller ID, Blocker & Phone Call Recorder',\n",
       "       'LINE Camera - Photo editor', 'Racing in Car 2',\n",
       "       'Dungeon Hunter Champions: Epic Online Action RPG',\n",
       "       'Red Bull TV: Live Sports, Music & Entertainment', 'Idle Heroes',\n",
       "       'Free phone calls, free texting SMS on free number',\n",
       "       'Phone Tracker : Family Locator', 'My Photo Keyboard',\n",
       "       'Whoscall - Caller ID & Block', 'Google Sheets',\n",
       "       'Video Downloader', 'Notepad & To do list',\n",
       "       'Polaris Office - Word, Docs, Sheets, Slide, PDF',\n",
       "       'Do It Later: Tasks & To-Dos', 'To-Do Calendar Planner',\n",
       "       'TickTick: To Do List with Reminder, Day Planner',\n",
       "       'ColorNote Notepad Notes', 'Dude Perfect 2', 'Dairy Queen',\n",
       "       'SONIC Drive-In', \"McDonald's\", 'Wendy’s – Food and Offers',\n",
       "       \"Dunkin' Donuts\", 'SUBWAY®', 'Panera Bread', 'Starbucks',\n",
       "       'Cache Cleaner-DU Speed Booster (booster & cleaner)',\n",
       "       'DU Browser—Browse fast & fun', 'Real Racing 3',\n",
       "       'My Little Pony Celebration', 'My Little Pony: Harmony Quest',\n",
       "       'The Emirates App', 'Phogy, 3D Camera', 'Weather by eltiempo.es',\n",
       "       'The Game of Life', 'Spanish English Translator',\n",
       "       \"Game for KIDS: KIDS match'em\", 'Dictionary - Merriam-Webster',\n",
       "       'Edmodo', 'Chess Free', 'Oxford Dictionary of English : Free',\n",
       "       'Masha and the Bear Child Games', 'Episode - Choose Your Story',\n",
       "       'The NBC App - Watch Live TV and Full Episodes',\n",
       "       'Moto File Manager',\n",
       "       'Moneycontrol – Stocks, Sensex, Mutual Funds, IPO',\n",
       "       'CNBC: Breaking Business News & Live Market Data', 'Google Earth',\n",
       "       'Amino: Communities and Chats', 'Hangouts Dialer - Call Phones',\n",
       "       'Offline Maps & Navigation',\n",
       "       'Strawberry Shortcake Ice Cream Island',\n",
       "       'Home Workout - No Equipment',\n",
       "       'Home Security Camera WardenCam - reuse old phones',\n",
       "       'Web Browser for Android',\n",
       "       'Airway Ex - Intubate. Anesthetize. Train.',\n",
       "       'FilterGrid - Cam&Photo Editor',\n",
       "       'Messages, Text and Video Chat for Messenger',\n",
       "       'All Social Networks', 'Premier League - Official App',\n",
       "       'Fallout Shelter', 'Facebook Pages Manager',\n",
       "       'Facebook Ads Manager',\n",
       "       'Who Viewed My Facebook Profile - Stalkers Visitors',\n",
       "       'The 5th Stand', 'osmino Wi-Fi: free WiFi',\n",
       "       'Fun Kid Racing - Motocross',\n",
       "       'Podcast App: Free & Offline Podcasts by Player FM',\n",
       "       'Motorola FM Radio', 'FarmersOnly Dating', 'FP Notebook', 'AAFP'],\n",
       "      dtype=object)"
      ]
     },
     "execution_count": 7,
     "metadata": {},
     "output_type": "execute_result"
    }
   ],
   "source": [
    "apps_name = apps[['App']]#extracting in pandas dataframe not as series\n",
    "apps_name.head()\n",
    "#apps_name[apps_name.duplicated()]\n",
    "duplicateapps = apps_name[apps_name.duplicated()]\n",
    "print(duplicateapps['App'].nunique())\n",
    "\n",
    "duplicateapps['App'].unique()"
   ]
  },
  {
   "cell_type": "code",
   "execution_count": 8,
   "metadata": {},
   "outputs": [
    {
     "data": {
      "text/plain": [
       "ROBLOX                                                8\n",
       "CBS Sports App - Scores, News, Stats & Watch Live     7\n",
       "ESPN                                                  6\n",
       "Candy Crush Saga                                      6\n",
       "Duolingo: Learn Languages Free                        6\n",
       "8 Ball Pool                                           6\n",
       "Bowmasters                                            5\n",
       "Bleacher Report: sports news, scores, & highlights    5\n",
       "Sniper 3D Gun Shooter: Free Shooting Games - FPS      5\n",
       "Temple Run 2                                          5\n",
       "Name: App, dtype: int64"
      ]
     },
     "execution_count": 8,
     "metadata": {},
     "output_type": "execute_result"
    }
   ],
   "source": [
    "duplicateapps['App'].value_counts().head(10)"
   ]
  },
  {
   "cell_type": "code",
   "execution_count": 9,
   "metadata": {},
   "outputs": [
    {
     "data": {
      "text/plain": [
       "9660"
      ]
     },
     "execution_count": 9,
     "metadata": {},
     "output_type": "execute_result"
    }
   ],
   "source": [
    "#A series of all dupicates\n",
    "\n",
    "# making a bool series \n",
    "bool_series = apps[\"App\"].duplicated() \n",
    "\n",
    "# display data \n",
    "unique_apps = apps[~bool_series]\n",
    "\n",
    "unique_apps.head(10)\n",
    "\n",
    "unique_apps[unique_apps[\"App\"]==\"ESPN\"]\n",
    "#unique_apps.info()\n",
    "\n",
    "unique_apps['App'].nunique()\n",
    "\n"
   ]
  },
  {
   "cell_type": "code",
   "execution_count": 10,
   "metadata": {},
   "outputs": [
    {
     "name": "stdout",
     "output_type": "stream",
     "text": [
      "<class 'pandas.core.frame.DataFrame'>\n",
      "Int64Index: 9660 entries, 0 to 10840\n",
      "Data columns (total 13 columns):\n",
      "App               9660 non-null object\n",
      "Category          9660 non-null object\n",
      "Rating            8197 non-null float32\n",
      "Reviews           9660 non-null object\n",
      "Size              9660 non-null object\n",
      "Installs          9660 non-null object\n",
      "Type              9659 non-null object\n",
      "Price             9660 non-null object\n",
      "Content Rating    9659 non-null object\n",
      "Genres            9660 non-null object\n",
      "Last Updated      9660 non-null object\n",
      "Current Ver       9652 non-null object\n",
      "Android Ver       9657 non-null object\n",
      "dtypes: float32(1), object(12)\n",
      "memory usage: 1018.8+ KB\n"
     ]
    },
    {
     "data": {
      "text/html": [
       "<div>\n",
       "<style scoped>\n",
       "    .dataframe tbody tr th:only-of-type {\n",
       "        vertical-align: middle;\n",
       "    }\n",
       "\n",
       "    .dataframe tbody tr th {\n",
       "        vertical-align: top;\n",
       "    }\n",
       "\n",
       "    .dataframe thead th {\n",
       "        text-align: right;\n",
       "    }\n",
       "</style>\n",
       "<table border=\"1\" class=\"dataframe\">\n",
       "  <thead>\n",
       "    <tr style=\"text-align: right;\">\n",
       "      <th></th>\n",
       "      <th>App</th>\n",
       "      <th>Category</th>\n",
       "      <th>Rating</th>\n",
       "      <th>Reviews</th>\n",
       "      <th>Size</th>\n",
       "      <th>Installs</th>\n",
       "      <th>Type</th>\n",
       "      <th>Price</th>\n",
       "      <th>Content Rating</th>\n",
       "      <th>Genres</th>\n",
       "      <th>Last Updated</th>\n",
       "      <th>Current Ver</th>\n",
       "      <th>Android Ver</th>\n",
       "    </tr>\n",
       "  </thead>\n",
       "  <tbody>\n",
       "    <tr>\n",
       "      <td>23</td>\n",
       "      <td>Mcqueen Coloring pages</td>\n",
       "      <td>ART_AND_DESIGN</td>\n",
       "      <td>NaN</td>\n",
       "      <td>61</td>\n",
       "      <td>7.0M</td>\n",
       "      <td>100,000+</td>\n",
       "      <td>Free</td>\n",
       "      <td>0</td>\n",
       "      <td>Everyone</td>\n",
       "      <td>Art &amp; Design;Action &amp; Adventure</td>\n",
       "      <td>March 7, 2018</td>\n",
       "      <td>1.0.0</td>\n",
       "      <td>4.1 and up</td>\n",
       "    </tr>\n",
       "    <tr>\n",
       "      <td>113</td>\n",
       "      <td>Wrinkles and rejuvenation</td>\n",
       "      <td>BEAUTY</td>\n",
       "      <td>NaN</td>\n",
       "      <td>182</td>\n",
       "      <td>5.7M</td>\n",
       "      <td>100,000+</td>\n",
       "      <td>Free</td>\n",
       "      <td>0</td>\n",
       "      <td>Everyone 10+</td>\n",
       "      <td>Beauty</td>\n",
       "      <td>September 20, 2017</td>\n",
       "      <td>8.0</td>\n",
       "      <td>3.0 and up</td>\n",
       "    </tr>\n",
       "    <tr>\n",
       "      <td>123</td>\n",
       "      <td>Manicure - nail design</td>\n",
       "      <td>BEAUTY</td>\n",
       "      <td>NaN</td>\n",
       "      <td>119</td>\n",
       "      <td>3.7M</td>\n",
       "      <td>50,000+</td>\n",
       "      <td>Free</td>\n",
       "      <td>0</td>\n",
       "      <td>Everyone</td>\n",
       "      <td>Beauty</td>\n",
       "      <td>July 23, 2018</td>\n",
       "      <td>1.3</td>\n",
       "      <td>4.1 and up</td>\n",
       "    </tr>\n",
       "    <tr>\n",
       "      <td>126</td>\n",
       "      <td>Skin Care and Natural Beauty</td>\n",
       "      <td>BEAUTY</td>\n",
       "      <td>NaN</td>\n",
       "      <td>654</td>\n",
       "      <td>7.4M</td>\n",
       "      <td>100,000+</td>\n",
       "      <td>Free</td>\n",
       "      <td>0</td>\n",
       "      <td>Teen</td>\n",
       "      <td>Beauty</td>\n",
       "      <td>July 17, 2018</td>\n",
       "      <td>1.15</td>\n",
       "      <td>4.1 and up</td>\n",
       "    </tr>\n",
       "    <tr>\n",
       "      <td>129</td>\n",
       "      <td>Secrets of beauty, youth and health</td>\n",
       "      <td>BEAUTY</td>\n",
       "      <td>NaN</td>\n",
       "      <td>77</td>\n",
       "      <td>2.9M</td>\n",
       "      <td>10,000+</td>\n",
       "      <td>Free</td>\n",
       "      <td>0</td>\n",
       "      <td>Mature 17+</td>\n",
       "      <td>Beauty</td>\n",
       "      <td>August 8, 2017</td>\n",
       "      <td>2.0</td>\n",
       "      <td>2.3 and up</td>\n",
       "    </tr>\n",
       "    <tr>\n",
       "      <td>...</td>\n",
       "      <td>...</td>\n",
       "      <td>...</td>\n",
       "      <td>...</td>\n",
       "      <td>...</td>\n",
       "      <td>...</td>\n",
       "      <td>...</td>\n",
       "      <td>...</td>\n",
       "      <td>...</td>\n",
       "      <td>...</td>\n",
       "      <td>...</td>\n",
       "      <td>...</td>\n",
       "      <td>...</td>\n",
       "      <td>...</td>\n",
       "    </tr>\n",
       "    <tr>\n",
       "      <td>10824</td>\n",
       "      <td>Cardio-FR</td>\n",
       "      <td>MEDICAL</td>\n",
       "      <td>NaN</td>\n",
       "      <td>67</td>\n",
       "      <td>82M</td>\n",
       "      <td>10,000+</td>\n",
       "      <td>Free</td>\n",
       "      <td>0</td>\n",
       "      <td>Everyone</td>\n",
       "      <td>Medical</td>\n",
       "      <td>July 31, 2018</td>\n",
       "      <td>2.2.2</td>\n",
       "      <td>4.4 and up</td>\n",
       "    </tr>\n",
       "    <tr>\n",
       "      <td>10825</td>\n",
       "      <td>Naruto &amp; Boruto FR</td>\n",
       "      <td>SOCIAL</td>\n",
       "      <td>NaN</td>\n",
       "      <td>7</td>\n",
       "      <td>7.7M</td>\n",
       "      <td>100+</td>\n",
       "      <td>Free</td>\n",
       "      <td>0</td>\n",
       "      <td>Teen</td>\n",
       "      <td>Social</td>\n",
       "      <td>February 2, 2018</td>\n",
       "      <td>1.0</td>\n",
       "      <td>4.0 and up</td>\n",
       "    </tr>\n",
       "    <tr>\n",
       "      <td>10831</td>\n",
       "      <td>payermonstationnement.fr</td>\n",
       "      <td>MAPS_AND_NAVIGATION</td>\n",
       "      <td>NaN</td>\n",
       "      <td>38</td>\n",
       "      <td>9.8M</td>\n",
       "      <td>5,000+</td>\n",
       "      <td>Free</td>\n",
       "      <td>0</td>\n",
       "      <td>Everyone</td>\n",
       "      <td>Maps &amp; Navigation</td>\n",
       "      <td>June 13, 2018</td>\n",
       "      <td>2.0.148.0</td>\n",
       "      <td>4.0 and up</td>\n",
       "    </tr>\n",
       "    <tr>\n",
       "      <td>10835</td>\n",
       "      <td>FR Forms</td>\n",
       "      <td>BUSINESS</td>\n",
       "      <td>NaN</td>\n",
       "      <td>0</td>\n",
       "      <td>9.6M</td>\n",
       "      <td>10+</td>\n",
       "      <td>Free</td>\n",
       "      <td>0</td>\n",
       "      <td>Everyone</td>\n",
       "      <td>Business</td>\n",
       "      <td>September 29, 2016</td>\n",
       "      <td>1.1.5</td>\n",
       "      <td>4.0 and up</td>\n",
       "    </tr>\n",
       "    <tr>\n",
       "      <td>10838</td>\n",
       "      <td>Parkinson Exercices FR</td>\n",
       "      <td>MEDICAL</td>\n",
       "      <td>NaN</td>\n",
       "      <td>3</td>\n",
       "      <td>9.5M</td>\n",
       "      <td>1,000+</td>\n",
       "      <td>Free</td>\n",
       "      <td>0</td>\n",
       "      <td>Everyone</td>\n",
       "      <td>Medical</td>\n",
       "      <td>January 20, 2017</td>\n",
       "      <td>1.0</td>\n",
       "      <td>2.2 and up</td>\n",
       "    </tr>\n",
       "  </tbody>\n",
       "</table>\n",
       "<p>1463 rows × 13 columns</p>\n",
       "</div>"
      ],
      "text/plain": [
       "                                       App             Category  Rating  \\\n",
       "23                  Mcqueen Coloring pages       ART_AND_DESIGN     NaN   \n",
       "113              Wrinkles and rejuvenation               BEAUTY     NaN   \n",
       "123                 Manicure - nail design               BEAUTY     NaN   \n",
       "126           Skin Care and Natural Beauty               BEAUTY     NaN   \n",
       "129    Secrets of beauty, youth and health               BEAUTY     NaN   \n",
       "...                                    ...                  ...     ...   \n",
       "10824                            Cardio-FR              MEDICAL     NaN   \n",
       "10825                   Naruto & Boruto FR               SOCIAL     NaN   \n",
       "10831             payermonstationnement.fr  MAPS_AND_NAVIGATION     NaN   \n",
       "10835                             FR Forms             BUSINESS     NaN   \n",
       "10838               Parkinson Exercices FR              MEDICAL     NaN   \n",
       "\n",
       "      Reviews  Size  Installs  Type Price Content Rating  \\\n",
       "23         61  7.0M  100,000+  Free     0       Everyone   \n",
       "113       182  5.7M  100,000+  Free     0   Everyone 10+   \n",
       "123       119  3.7M   50,000+  Free     0       Everyone   \n",
       "126       654  7.4M  100,000+  Free     0           Teen   \n",
       "129        77  2.9M   10,000+  Free     0     Mature 17+   \n",
       "...       ...   ...       ...   ...   ...            ...   \n",
       "10824      67   82M   10,000+  Free     0       Everyone   \n",
       "10825       7  7.7M      100+  Free     0           Teen   \n",
       "10831      38  9.8M    5,000+  Free     0       Everyone   \n",
       "10835       0  9.6M       10+  Free     0       Everyone   \n",
       "10838       3  9.5M    1,000+  Free     0       Everyone   \n",
       "\n",
       "                                Genres        Last Updated Current Ver  \\\n",
       "23     Art & Design;Action & Adventure       March 7, 2018       1.0.0   \n",
       "113                             Beauty  September 20, 2017         8.0   \n",
       "123                             Beauty       July 23, 2018         1.3   \n",
       "126                             Beauty       July 17, 2018        1.15   \n",
       "129                             Beauty      August 8, 2017         2.0   \n",
       "...                                ...                 ...         ...   \n",
       "10824                          Medical       July 31, 2018       2.2.2   \n",
       "10825                           Social    February 2, 2018         1.0   \n",
       "10831                Maps & Navigation       June 13, 2018   2.0.148.0   \n",
       "10835                         Business  September 29, 2016       1.1.5   \n",
       "10838                          Medical    January 20, 2017         1.0   \n",
       "\n",
       "      Android Ver  \n",
       "23     4.1 and up  \n",
       "113    3.0 and up  \n",
       "123    4.1 and up  \n",
       "126    4.1 and up  \n",
       "129    2.3 and up  \n",
       "...           ...  \n",
       "10824  4.4 and up  \n",
       "10825  4.0 and up  \n",
       "10831  4.0 and up  \n",
       "10835  4.0 and up  \n",
       "10838  2.2 and up  \n",
       "\n",
       "[1463 rows x 13 columns]"
      ]
     },
     "execution_count": 10,
     "metadata": {},
     "output_type": "execute_result"
    }
   ],
   "source": [
    "unique_apps.info()   \n",
    "unique_apps[\"Rating\"].isna()\n",
    "unique_apps[unique_apps[\"Rating\"].isna()]"
   ]
  },
  {
   "cell_type": "code",
   "execution_count": 11,
   "metadata": {},
   "outputs": [
    {
     "data": {
      "text/plain": [
       "4.3     897\n",
       "4.4     895\n",
       "4.5     848\n",
       "4.2     810\n",
       "4.6     683\n",
       "4.1     621\n",
       "4.0     513\n",
       "4.7     442\n",
       "3.9     359\n",
       "3.8     286\n",
       "5.0     271\n",
       "3.7     224\n",
       "4.8     221\n",
       "3.6     167\n",
       "3.5     156\n",
       "3.4     126\n",
       "3.3     100\n",
       "4.9      85\n",
       "3.0      81\n",
       "3.1      69\n",
       "3.2      63\n",
       "2.9      45\n",
       "2.8      40\n",
       "2.6      24\n",
       "2.7      23\n",
       "2.5      20\n",
       "2.3      20\n",
       "2.4      19\n",
       "1.0      16\n",
       "2.2      14\n",
       "2.0      12\n",
       "1.9      11\n",
       "2.1       8\n",
       "1.7       8\n",
       "1.8       8\n",
       "1.6       4\n",
       "1.4       3\n",
       "1.5       3\n",
       "19.0      1\n",
       "1.2       1\n",
       "Name: Rating, dtype: int64"
      ]
     },
     "execution_count": 11,
     "metadata": {},
     "output_type": "execute_result"
    }
   ],
   "source": [
    "unique_apps['Rating'].value_counts()"
   ]
  },
  {
   "cell_type": "code",
   "execution_count": 12,
   "metadata": {},
   "outputs": [
    {
     "data": {
      "text/html": [
       "<div>\n",
       "<style scoped>\n",
       "    .dataframe tbody tr th:only-of-type {\n",
       "        vertical-align: middle;\n",
       "    }\n",
       "\n",
       "    .dataframe tbody tr th {\n",
       "        vertical-align: top;\n",
       "    }\n",
       "\n",
       "    .dataframe thead th {\n",
       "        text-align: right;\n",
       "    }\n",
       "</style>\n",
       "<table border=\"1\" class=\"dataframe\">\n",
       "  <thead>\n",
       "    <tr style=\"text-align: right;\">\n",
       "      <th></th>\n",
       "      <th>App</th>\n",
       "      <th>Category</th>\n",
       "      <th>Rating</th>\n",
       "      <th>Reviews</th>\n",
       "      <th>Size</th>\n",
       "      <th>Installs</th>\n",
       "      <th>Type</th>\n",
       "      <th>Price</th>\n",
       "      <th>Content Rating</th>\n",
       "      <th>Genres</th>\n",
       "      <th>Last Updated</th>\n",
       "      <th>Current Ver</th>\n",
       "      <th>Android Ver</th>\n",
       "    </tr>\n",
       "  </thead>\n",
       "  <tbody>\n",
       "    <tr>\n",
       "      <td>10472</td>\n",
       "      <td>Life Made WI-Fi Touchscreen Photo Frame</td>\n",
       "      <td>1.9</td>\n",
       "      <td>19.0</td>\n",
       "      <td>3.0M</td>\n",
       "      <td>1,000+</td>\n",
       "      <td>Free</td>\n",
       "      <td>0</td>\n",
       "      <td>Everyone</td>\n",
       "      <td>NaN</td>\n",
       "      <td>February 11, 2018</td>\n",
       "      <td>1.0.19</td>\n",
       "      <td>4.0 and up</td>\n",
       "      <td>NaN</td>\n",
       "    </tr>\n",
       "  </tbody>\n",
       "</table>\n",
       "</div>"
      ],
      "text/plain": [
       "                                           App Category  Rating Reviews  \\\n",
       "10472  Life Made WI-Fi Touchscreen Photo Frame      1.9    19.0    3.0M   \n",
       "\n",
       "         Size Installs Type     Price Content Rating             Genres  \\\n",
       "10472  1,000+     Free    0  Everyone            NaN  February 11, 2018   \n",
       "\n",
       "      Last Updated Current Ver Android Ver  \n",
       "10472       1.0.19  4.0 and up         NaN  "
      ]
     },
     "execution_count": 12,
     "metadata": {},
     "output_type": "execute_result"
    }
   ],
   "source": [
    "unique_apps[unique_apps['Rating'] == 19]"
   ]
  },
  {
   "cell_type": "code",
   "execution_count": 13,
   "metadata": {},
   "outputs": [
    {
     "data": {
      "text/html": [
       "<div>\n",
       "<style scoped>\n",
       "    .dataframe tbody tr th:only-of-type {\n",
       "        vertical-align: middle;\n",
       "    }\n",
       "\n",
       "    .dataframe tbody tr th {\n",
       "        vertical-align: top;\n",
       "    }\n",
       "\n",
       "    .dataframe thead th {\n",
       "        text-align: right;\n",
       "    }\n",
       "</style>\n",
       "<table border=\"1\" class=\"dataframe\">\n",
       "  <thead>\n",
       "    <tr style=\"text-align: right;\">\n",
       "      <th></th>\n",
       "      <th>App</th>\n",
       "      <th>Category</th>\n",
       "      <th>Rating</th>\n",
       "      <th>Reviews</th>\n",
       "      <th>Size</th>\n",
       "      <th>Installs</th>\n",
       "      <th>Type</th>\n",
       "      <th>Price</th>\n",
       "      <th>Content Rating</th>\n",
       "      <th>Genres</th>\n",
       "      <th>Last Updated</th>\n",
       "      <th>Current Ver</th>\n",
       "      <th>Android Ver</th>\n",
       "    </tr>\n",
       "  </thead>\n",
       "  <tbody>\n",
       "    <tr>\n",
       "      <td>10472</td>\n",
       "      <td>Life Made WI-Fi</td>\n",
       "      <td>Touchscreen Photo Frame</td>\n",
       "      <td>1.9</td>\n",
       "      <td>19</td>\n",
       "      <td>3.0M</td>\n",
       "      <td>1,000+</td>\n",
       "      <td>Free</td>\n",
       "      <td>0</td>\n",
       "      <td>Everyone</td>\n",
       "      <td>NaN</td>\n",
       "      <td>February 11,2018</td>\n",
       "      <td>1.0.19</td>\n",
       "      <td>4.0 and up</td>\n",
       "    </tr>\n",
       "  </tbody>\n",
       "</table>\n",
       "</div>"
      ],
      "text/plain": [
       "                   App                 Category Rating Reviews  Size Installs  \\\n",
       "10472  Life Made WI-Fi  Touchscreen Photo Frame    1.9      19  3.0M   1,000+   \n",
       "\n",
       "       Type Price Content Rating Genres      Last Updated Current Ver  \\\n",
       "10472  Free     0       Everyone    NaN  February 11,2018      1.0.19   \n",
       "\n",
       "      Android Ver  \n",
       "10472  4.0 and up  "
      ]
     },
     "execution_count": 13,
     "metadata": {},
     "output_type": "execute_result"
    }
   ],
   "source": [
    "unique_apps.loc[10472,\"App\"] = \"Life Made WI-Fi\"\n",
    "unique_apps.loc[10472,\"Category\"] = \"Touchscreen Photo Frame\"\n",
    "unique_apps.loc[10472,\"Rating\"] = \"1.9\"\n",
    "unique_apps.loc[10472,\"Reviews\"] = 19\n",
    "unique_apps.loc[10472,\"Size\"] = \"3.0M\"\n",
    "unique_apps.loc[10472,\"Installs\"] = \"1,000+\"\n",
    "unique_apps.loc[10472,\"Type\"] = \"Free\"\n",
    "unique_apps.loc[10472,\"Price\"] = \"0\"\n",
    "unique_apps.loc[10472,\"Content Rating\"] = \"Everyone\"\n",
    "unique_apps.loc[10472,\"Genres\"] = \"NaN\"\n",
    "unique_apps.loc[10472,\"Last Updated\"] = \"February 11,2018\"\n",
    "unique_apps.loc[10472,\"Current Ver\"] = \"1.0.19\"\n",
    "unique_apps.loc[10472,\"Android Ver\"] = \"4.0 and up\"\n",
    "\n",
    "unique_apps[unique_apps['App'] == \"Life Made WI-Fi\"]"
   ]
  },
  {
   "cell_type": "code",
   "execution_count": 14,
   "metadata": {},
   "outputs": [
    {
     "data": {
      "text/plain": [
       "Tools                           826\n",
       "Entertainment                   561\n",
       "Education                       510\n",
       "Business                        420\n",
       "Medical                         395\n",
       "                               ... \n",
       "NaN                               1\n",
       "Lifestyle;Education               1\n",
       "Books & Reference;Creativity      1\n",
       "Strategy;Creativity               1\n",
       "Communication;Creativity          1\n",
       "Name: Genres, Length: 119, dtype: int64"
      ]
     },
     "execution_count": 14,
     "metadata": {},
     "output_type": "execute_result"
    }
   ],
   "source": [
    "#unique_apps['Category'].value_counts(10)\n",
    "\n",
    "#unique_apps['Reviews'].value_counts(10)  \n",
    "\n",
    "#unique_apps['Size'].value_counts(10)  \n",
    "\n",
    "#unique_apps['Installs'].value_counts()  \n",
    "\n",
    "#unique_apps['Price'].value_counts()\n",
    "\n",
    "unique_apps['Type'].value_counts()\n",
    "\n",
    "unique_apps['Content Rating'].value_counts()\n",
    "\n",
    "unique_apps['Genres'].value_counts()\n",
    "\n",
    "#unique_apps['Current Ver'].value_counts()\n",
    "\n",
    "#unique_apps['Android Ver'].value_counts()\n",
    "\n"
   ]
  },
  {
   "cell_type": "code",
   "execution_count": 15,
   "metadata": {},
   "outputs": [
    {
     "name": "stdout",
     "output_type": "stream",
     "text": [
      "<class 'pandas.core.frame.DataFrame'>\n",
      "Int64Index: 9660 entries, 0 to 10840\n",
      "Data columns (total 13 columns):\n",
      "App               9660 non-null object\n",
      "Category          9660 non-null object\n",
      "Rating            8197 non-null float64\n",
      "Reviews           9660 non-null float64\n",
      "Size              8433 non-null float64\n",
      "Installs          9660 non-null float64\n",
      "Type              9659 non-null object\n",
      "Price             9660 non-null float64\n",
      "Content Rating    9660 non-null object\n",
      "Genres            9660 non-null object\n",
      "Last Updated      9660 non-null object\n",
      "Current Ver       9652 non-null object\n",
      "Android Ver       9658 non-null object\n",
      "dtypes: float64(5), object(8)\n",
      "memory usage: 1.3+ MB\n"
     ]
    }
   ],
   "source": [
    "unique_apps['Size'] = unique_apps['Size'].apply(lambda x: str(x).replace('Varies with device', 'NaN') if 'Varies with device' in str(x) else x)\n",
    "\n",
    "unique_apps['Size'] = unique_apps['Size'].apply(lambda x: str(x).replace('M', '') if 'M' in str(x) else x)\n",
    "unique_apps['Size'] = unique_apps['Size'].apply(lambda x: str(x).replace(',', '') if 'M' in str(x) else x)\n",
    "unique_apps['Size'] = unique_apps['Size'].apply(lambda x: float(str(x).replace('k', '')) * 1024 if 'k' in str(x) else x)\n",
    "unique_apps['Size'] = unique_apps['Size'].apply(lambda x: float(x))\n",
    "unique_apps['Installs'] = unique_apps['Installs'].apply(lambda x : str(x).replace('+', '') if '+' in str(x) else x)\n",
    "unique_apps['Installs'] = unique_apps['Installs'].apply(lambda x: str(x).replace(',', '') if ',' in str(x) else x)\n",
    "unique_apps['Installs'] = unique_apps['Installs'].apply(lambda x: float(x))\n",
    "\n",
    "unique_apps['Price'] = unique_apps['Price'].apply(lambda x: str(x).replace('$', '') if '$' in str(x) else str(x))\n",
    "unique_apps['Price'] = unique_apps['Price'].apply(lambda x: float(x))\n",
    "\n",
    "unique_apps['Reviews'] = unique_apps['Reviews'].apply(lambda x: float(x))\n",
    "unique_apps['Rating'] = unique_apps['Rating'].apply(lambda x: float(x))\n",
    "unique_apps.info()"
   ]
  },
  {
   "cell_type": "markdown",
   "metadata": {},
   "source": [
    "For basic checks, lets remove all na\n"
   ]
  },
  {
   "cell_type": "code",
   "execution_count": 16,
   "metadata": {},
   "outputs": [
    {
     "name": "stdout",
     "output_type": "stream",
     "text": [
      "<class 'pandas.core.frame.DataFrame'>\n",
      "Int64Index: 9660 entries, 0 to 10840\n",
      "Data columns (total 13 columns):\n",
      "App               9660 non-null object\n",
      "Category          9660 non-null object\n",
      "Rating            8197 non-null float64\n",
      "Reviews           9660 non-null float64\n",
      "Size              8433 non-null float64\n",
      "Installs          9660 non-null float64\n",
      "Type              9659 non-null object\n",
      "Price             9660 non-null float64\n",
      "Content Rating    9660 non-null object\n",
      "Genres            9660 non-null object\n",
      "Last Updated      9660 non-null object\n",
      "Current Ver       9652 non-null object\n",
      "Android Ver       9658 non-null object\n",
      "dtypes: float64(5), object(8)\n",
      "memory usage: 1.3+ MB\n"
     ]
    }
   ],
   "source": [
    "df = unique_apps.copy()\n",
    "unique_apps.info()"
   ]
  },
  {
   "cell_type": "code",
   "execution_count": 17,
   "metadata": {},
   "outputs": [
    {
     "name": "stdout",
     "output_type": "stream",
     "text": [
      "<class 'pandas.core.frame.DataFrame'>\n",
      "Int64Index: 7022 entries, 0 to 10840\n",
      "Data columns (total 13 columns):\n",
      "App               7022 non-null object\n",
      "Category          7022 non-null object\n",
      "Rating            7022 non-null float64\n",
      "Reviews           7022 non-null float64\n",
      "Size              7022 non-null float64\n",
      "Installs          7022 non-null float64\n",
      "Type              7022 non-null object\n",
      "Price             7022 non-null float64\n",
      "Content Rating    7022 non-null object\n",
      "Genres            7022 non-null object\n",
      "Last Updated      7022 non-null object\n",
      "Current Ver       7022 non-null object\n",
      "Android Ver       7022 non-null object\n",
      "dtypes: float64(5), object(8)\n",
      "memory usage: 768.0+ KB\n"
     ]
    },
    {
     "data": {
      "text/html": [
       "<div>\n",
       "<style scoped>\n",
       "    .dataframe tbody tr th:only-of-type {\n",
       "        vertical-align: middle;\n",
       "    }\n",
       "\n",
       "    .dataframe tbody tr th {\n",
       "        vertical-align: top;\n",
       "    }\n",
       "\n",
       "    .dataframe thead th {\n",
       "        text-align: right;\n",
       "    }\n",
       "</style>\n",
       "<table border=\"1\" class=\"dataframe\">\n",
       "  <thead>\n",
       "    <tr style=\"text-align: right;\">\n",
       "      <th></th>\n",
       "      <th>Rating</th>\n",
       "      <th>Reviews</th>\n",
       "      <th>Size</th>\n",
       "      <th>Installs</th>\n",
       "      <th>Price</th>\n",
       "    </tr>\n",
       "  </thead>\n",
       "  <tbody>\n",
       "    <tr>\n",
       "      <td>Rating</td>\n",
       "      <td>1.000000</td>\n",
       "      <td>0.067589</td>\n",
       "      <td>-0.037158</td>\n",
       "      <td>0.047639</td>\n",
       "      <td>-0.021096</td>\n",
       "    </tr>\n",
       "    <tr>\n",
       "      <td>Reviews</td>\n",
       "      <td>0.067589</td>\n",
       "      <td>1.000000</td>\n",
       "      <td>-0.021524</td>\n",
       "      <td>0.595749</td>\n",
       "      <td>-0.008998</td>\n",
       "    </tr>\n",
       "    <tr>\n",
       "      <td>Size</td>\n",
       "      <td>-0.037158</td>\n",
       "      <td>-0.021524</td>\n",
       "      <td>1.000000</td>\n",
       "      <td>-0.023427</td>\n",
       "      <td>0.024733</td>\n",
       "    </tr>\n",
       "    <tr>\n",
       "      <td>Installs</td>\n",
       "      <td>0.047639</td>\n",
       "      <td>0.595749</td>\n",
       "      <td>-0.023427</td>\n",
       "      <td>1.000000</td>\n",
       "      <td>-0.010566</td>\n",
       "    </tr>\n",
       "    <tr>\n",
       "      <td>Price</td>\n",
       "      <td>-0.021096</td>\n",
       "      <td>-0.008998</td>\n",
       "      <td>0.024733</td>\n",
       "      <td>-0.010566</td>\n",
       "      <td>1.000000</td>\n",
       "    </tr>\n",
       "  </tbody>\n",
       "</table>\n",
       "</div>"
      ],
      "text/plain": [
       "            Rating   Reviews      Size  Installs     Price\n",
       "Rating    1.000000  0.067589 -0.037158  0.047639 -0.021096\n",
       "Reviews   0.067589  1.000000 -0.021524  0.595749 -0.008998\n",
       "Size     -0.037158 -0.021524  1.000000 -0.023427  0.024733\n",
       "Installs  0.047639  0.595749 -0.023427  1.000000 -0.010566\n",
       "Price    -0.021096 -0.008998  0.024733 -0.010566  1.000000"
      ]
     },
     "execution_count": 17,
     "metadata": {},
     "output_type": "execute_result"
    }
   ],
   "source": [
    "df = df.dropna(how = 'any')\n",
    "df = df[df['Installs'] != 0]\n",
    "df = df[df['Reviews'] != 0]\n",
    "df.info()\n",
    "df.corr()\n"
   ]
  },
  {
   "cell_type": "code",
   "execution_count": 18,
   "metadata": {},
   "outputs": [
    {
     "data": {
      "text/plain": [
       "<matplotlib.axes._subplots.AxesSubplot at 0x7efc9aba3b10>"
      ]
     },
     "execution_count": 18,
     "metadata": {},
     "output_type": "execute_result"
    },
    {
     "data": {
      "image/png": "[encoded data removed]",
      "text/plain": [
       "<Figure size 432x288 with 1 Axes>"
      ]
     },
     "metadata": {
      "needs_background": "light"
     },
     "output_type": "display_data"
    }
   ],
   "source": [
    "# sns.distplot(df.loc[df['Rating'] >= 2])\n",
    "sns.distplot(df['Rating'])"
   ]
  },
  {
   "cell_type": "code",
   "execution_count": 19,
   "metadata": {},
   "outputs": [
    {
     "data": {
      "text/plain": [
       "<matplotlib.axes._subplots.AxesSubplot at 0x7efc9a7d0350>"
      ]
     },
     "execution_count": 19,
     "metadata": {},
     "output_type": "execute_result"
    },
    {
     "data": {
      "image/png": "[encoded data removed]",
      "text/plain": [
       "<Figure size 432x288 with 1 Axes>"
      ]
     },
     "metadata": {
      "needs_background": "light"
     },
     "output_type": "display_data"
    }
   ],
   "source": [
    "#reduced_df = df[df['Rating'] <= 4]\n",
    "# sns.distplot(reduced_df['Rating'])\n",
    "sns.distplot(df[df['Rating'] >= 2.5]['Rating'])"
   ]
  },
  {
   "cell_type": "code",
   "execution_count": 20,
   "metadata": {},
   "outputs": [
    {
     "data": {
      "text/plain": [
       "<matplotlib.axes._subplots.AxesSubplot at 0x7efc9a718190>"
      ]
     },
     "execution_count": 20,
     "metadata": {},
     "output_type": "execute_result"
    },
    {
     "data": {
      "image/png": "[encoded data removed]",
      "text/plain": [
       "<Figure size 432x288 with 1 Axes>"
      ]
     },
     "metadata": {
      "needs_background": "light"
     },
     "output_type": "display_data"
    }
   ],
   "source": [
    "sns.distplot(df['Reviews'])"
   ]
  },
  {
   "cell_type": "code",
   "execution_count": 21,
   "metadata": {},
   "outputs": [
    {
     "data": {
      "text/plain": [
       "<matplotlib.axes._subplots.AxesSubplot at 0x7efc9a5dfc50>"
      ]
     },
     "execution_count": 21,
     "metadata": {},
     "output_type": "execute_result"
    },
    {
     "data": {
      "image/png": "[encoded data removed]",
      "text/plain": [
       "<Figure size 432x288 with 1 Axes>"
      ]
     },
     "metadata": {
      "needs_background": "light"
     },
     "output_type": "display_data"
    }
   ],
   "source": [
    "sns.violinplot(x = 'Type', y = 'Rating', data = df)"
   ]
  },
  {
   "cell_type": "code",
   "execution_count": 22,
   "metadata": {},
   "outputs": [
    {
     "data": {
      "text/plain": [
       "<matplotlib.axes._subplots.AxesSubplot at 0x7efc99d64990>"
      ]
     },
     "execution_count": 22,
     "metadata": {},
     "output_type": "execute_result"
    },
    {
     "data": {
      "image/png": "[encoded data removed]",
      "text/plain": [
       "<Figure size 432x288 with 1 Axes>"
      ]
     },
     "metadata": {
      "needs_background": "light"
     },
     "output_type": "display_data"
    }
   ],
   "source": [
    "sns.boxplot(x = 'Type', y = 'Rating', data = df)"
   ]
  },
  {
   "cell_type": "code",
   "execution_count": 23,
   "metadata": {},
   "outputs": [
    {
     "data": {
      "text/plain": [
       "<matplotlib.axes._subplots.AxesSubplot at 0x7efc9abd7790>"
      ]
     },
     "execution_count": 23,
     "metadata": {},
     "output_type": "execute_result"
    },
    {
     "data": {
      "image/png": "[encoded data removed]",
      "text/plain": [
       "<Figure size 432x288 with 1 Axes>"
      ]
     },
     "metadata": {
      "needs_background": "light"
     },
     "output_type": "display_data"
    }
   ],
   "source": [
    "sns.boxplot(x = 'Type', y = 'Reviews', data = df)"
   ]
  },
  {
   "cell_type": "code",
   "execution_count": 24,
   "metadata": {},
   "outputs": [
    {
     "data": {
      "text/plain": [
       "Type\n",
       "Free    156347.322227\n",
       "Paid      6892.497217\n",
       "Name: Reviews, dtype: float64"
      ]
     },
     "execution_count": 24,
     "metadata": {},
     "output_type": "execute_result"
    }
   ],
   "source": [
    "df.groupby('Type')['Reviews'].mean()\n",
    "# df.groupby('Type')['Installs'].mean()"
   ]
  },
  {
   "cell_type": "code",
   "execution_count": 25,
   "metadata": {},
   "outputs": [
    {
     "data": {
      "text/plain": [
       "<seaborn.axisgrid.JointGrid at 0x7efc9a5df410>"
      ]
     },
     "execution_count": 25,
     "metadata": {},
     "output_type": "execute_result"
    },
    {
     "data": {
      "image/png": "[encoded data removed]",
      "text/plain": [
       "<Figure size 432x432 with 3 Axes>"
      ]
     },
     "metadata": {
      "needs_background": "light"
     },
     "output_type": "display_data"
    }
   ],
   "source": [
    "sns.jointplot(x = 'Reviews', y = 'Rating', data = df, kind = 'scatter')"
   ]
  },
  {
   "cell_type": "code",
   "execution_count": 26,
   "metadata": {},
   "outputs": [
    {
     "data": {
      "text/plain": [
       "<seaborn.axisgrid.JointGrid at 0x7efcc9402610>"
      ]
     },
     "execution_count": 26,
     "metadata": {},
     "output_type": "execute_result"
    },
    {
     "data": {
      "image/png": "[encoded data removed]",
      "text/plain": [
       "<Figure size 432x432 with 3 Axes>"
      ]
     },
     "metadata": {
      "needs_background": "light"
     },
     "output_type": "display_data"
    }
   ],
   "source": [
    "sns.jointplot(x = 'Reviews', y = 'Rating', data = df[df['Reviews'] < 2500000], kind = 'scatter')"
   ]
  },
  {
   "cell_type": "code",
   "execution_count": 27,
   "metadata": {},
   "outputs": [
    {
     "data": {
      "text/plain": [
       "<seaborn.axisgrid.JointGrid at 0x7efc99903fd0>"
      ]
     },
     "execution_count": 27,
     "metadata": {},
     "output_type": "execute_result"
    },
    {
     "data": {
      "image/png": "[encoded data removed]",
      "text/plain": [
       "<Figure size 432x432 with 3 Axes>"
      ]
     },
     "metadata": {
      "needs_background": "light"
     },
     "output_type": "display_data"
    }
   ],
   "source": [
    "sns.jointplot(x = 'Reviews', y = 'Rating', data = df[df['Reviews'] > 2500000], kind = 'scatter')"
   ]
  },
  {
   "cell_type": "code",
   "execution_count": 28,
   "metadata": {},
   "outputs": [
    {
     "data": {
      "text/html": [
       "<div>\n",
       "<style scoped>\n",
       "    .dataframe tbody tr th:only-of-type {\n",
       "        vertical-align: middle;\n",
       "    }\n",
       "\n",
       "    .dataframe tbody tr th {\n",
       "        vertical-align: top;\n",
       "    }\n",
       "\n",
       "    .dataframe thead th {\n",
       "        text-align: right;\n",
       "    }\n",
       "</style>\n",
       "<table border=\"1\" class=\"dataframe\">\n",
       "  <thead>\n",
       "    <tr style=\"text-align: right;\">\n",
       "      <th></th>\n",
       "      <th>App</th>\n",
       "      <th>Category</th>\n",
       "      <th>Rating</th>\n",
       "      <th>Reviews</th>\n",
       "      <th>Size</th>\n",
       "      <th>Installs</th>\n",
       "      <th>Type</th>\n",
       "      <th>Price</th>\n",
       "      <th>Content Rating</th>\n",
       "      <th>Genres</th>\n",
       "      <th>Last Updated</th>\n",
       "      <th>Current Ver</th>\n",
       "      <th>Android Ver</th>\n",
       "    </tr>\n",
       "  </thead>\n",
       "  <tbody>\n",
       "    <tr>\n",
       "      <td>378</td>\n",
       "      <td>UC Browser - Fast Download Private &amp; Secure</td>\n",
       "      <td>COMMUNICATION</td>\n",
       "      <td>4.5</td>\n",
       "      <td>17712922.0</td>\n",
       "      <td>40.0</td>\n",
       "      <td>5.000000e+08</td>\n",
       "      <td>Free</td>\n",
       "      <td>0.0</td>\n",
       "      <td>Teen</td>\n",
       "      <td>Communication</td>\n",
       "      <td>August 2, 2018</td>\n",
       "      <td>12.8.5.1121</td>\n",
       "      <td>4.0 and up</td>\n",
       "    </tr>\n",
       "    <tr>\n",
       "      <td>1654</td>\n",
       "      <td>Subway Surfers</td>\n",
       "      <td>GAME</td>\n",
       "      <td>4.5</td>\n",
       "      <td>27722264.0</td>\n",
       "      <td>76.0</td>\n",
       "      <td>1.000000e+09</td>\n",
       "      <td>Free</td>\n",
       "      <td>0.0</td>\n",
       "      <td>Everyone 10+</td>\n",
       "      <td>Arcade</td>\n",
       "      <td>July 12, 2018</td>\n",
       "      <td>1.90.0</td>\n",
       "      <td>4.1 and up</td>\n",
       "    </tr>\n",
       "    <tr>\n",
       "      <td>1655</td>\n",
       "      <td>Candy Crush Saga</td>\n",
       "      <td>GAME</td>\n",
       "      <td>4.4</td>\n",
       "      <td>22426677.0</td>\n",
       "      <td>74.0</td>\n",
       "      <td>5.000000e+08</td>\n",
       "      <td>Free</td>\n",
       "      <td>0.0</td>\n",
       "      <td>Everyone</td>\n",
       "      <td>Casual</td>\n",
       "      <td>July 5, 2018</td>\n",
       "      <td>1.129.0.2</td>\n",
       "      <td>4.1 and up</td>\n",
       "    </tr>\n",
       "    <tr>\n",
       "      <td>1660</td>\n",
       "      <td>Clash Royale</td>\n",
       "      <td>GAME</td>\n",
       "      <td>4.6</td>\n",
       "      <td>23133508.0</td>\n",
       "      <td>97.0</td>\n",
       "      <td>1.000000e+08</td>\n",
       "      <td>Free</td>\n",
       "      <td>0.0</td>\n",
       "      <td>Everyone 10+</td>\n",
       "      <td>Strategy</td>\n",
       "      <td>June 27, 2018</td>\n",
       "      <td>2.3.2</td>\n",
       "      <td>4.1 and up</td>\n",
       "    </tr>\n",
       "    <tr>\n",
       "      <td>1661</td>\n",
       "      <td>Temple Run 2</td>\n",
       "      <td>GAME</td>\n",
       "      <td>4.3</td>\n",
       "      <td>8118609.0</td>\n",
       "      <td>62.0</td>\n",
       "      <td>5.000000e+08</td>\n",
       "      <td>Free</td>\n",
       "      <td>0.0</td>\n",
       "      <td>Everyone</td>\n",
       "      <td>Action</td>\n",
       "      <td>July 5, 2018</td>\n",
       "      <td>1.49.1</td>\n",
       "      <td>4.0 and up</td>\n",
       "    </tr>\n",
       "    <tr>\n",
       "      <td>1662</td>\n",
       "      <td>Pou</td>\n",
       "      <td>GAME</td>\n",
       "      <td>4.3</td>\n",
       "      <td>10485308.0</td>\n",
       "      <td>24.0</td>\n",
       "      <td>5.000000e+08</td>\n",
       "      <td>Free</td>\n",
       "      <td>0.0</td>\n",
       "      <td>Everyone</td>\n",
       "      <td>Casual</td>\n",
       "      <td>May 25, 2018</td>\n",
       "      <td>1.4.77</td>\n",
       "      <td>4.0 and up</td>\n",
       "    </tr>\n",
       "    <tr>\n",
       "      <td>1668</td>\n",
       "      <td>Candy Crush Soda Saga</td>\n",
       "      <td>GAME</td>\n",
       "      <td>4.4</td>\n",
       "      <td>6198563.0</td>\n",
       "      <td>67.0</td>\n",
       "      <td>1.000000e+08</td>\n",
       "      <td>Free</td>\n",
       "      <td>0.0</td>\n",
       "      <td>Everyone</td>\n",
       "      <td>Casual</td>\n",
       "      <td>July 10, 2018</td>\n",
       "      <td>1.118.4</td>\n",
       "      <td>4.1 and up</td>\n",
       "    </tr>\n",
       "    <tr>\n",
       "      <td>1670</td>\n",
       "      <td>Clash of Clans</td>\n",
       "      <td>GAME</td>\n",
       "      <td>4.6</td>\n",
       "      <td>44891723.0</td>\n",
       "      <td>98.0</td>\n",
       "      <td>1.000000e+08</td>\n",
       "      <td>Free</td>\n",
       "      <td>0.0</td>\n",
       "      <td>Everyone 10+</td>\n",
       "      <td>Strategy</td>\n",
       "      <td>July 15, 2018</td>\n",
       "      <td>10.322.16</td>\n",
       "      <td>4.1 and up</td>\n",
       "    </tr>\n",
       "    <tr>\n",
       "      <td>1675</td>\n",
       "      <td>8 Ball Pool</td>\n",
       "      <td>GAME</td>\n",
       "      <td>4.5</td>\n",
       "      <td>14198297.0</td>\n",
       "      <td>52.0</td>\n",
       "      <td>1.000000e+08</td>\n",
       "      <td>Free</td>\n",
       "      <td>0.0</td>\n",
       "      <td>Everyone</td>\n",
       "      <td>Sports</td>\n",
       "      <td>July 31, 2018</td>\n",
       "      <td>4.0.0</td>\n",
       "      <td>4.0.3 and up</td>\n",
       "    </tr>\n",
       "    <tr>\n",
       "      <td>1680</td>\n",
       "      <td>Angry Birds Classic</td>\n",
       "      <td>GAME</td>\n",
       "      <td>4.4</td>\n",
       "      <td>5566669.0</td>\n",
       "      <td>97.0</td>\n",
       "      <td>1.000000e+08</td>\n",
       "      <td>Free</td>\n",
       "      <td>0.0</td>\n",
       "      <td>Everyone</td>\n",
       "      <td>Arcade</td>\n",
       "      <td>May 24, 2018</td>\n",
       "      <td>7.9.3</td>\n",
       "      <td>4.1 and up</td>\n",
       "    </tr>\n",
       "  </tbody>\n",
       "</table>\n",
       "</div>"
      ],
      "text/plain": [
       "                                              App       Category  Rating  \\\n",
       "378   UC Browser - Fast Download Private & Secure  COMMUNICATION     4.5   \n",
       "1654                               Subway Surfers           GAME     4.5   \n",
       "1655                             Candy Crush Saga           GAME     4.4   \n",
       "1660                                 Clash Royale           GAME     4.6   \n",
       "1661                                 Temple Run 2           GAME     4.3   \n",
       "1662                                          Pou           GAME     4.3   \n",
       "1668                        Candy Crush Soda Saga           GAME     4.4   \n",
       "1670                               Clash of Clans           GAME     4.6   \n",
       "1675                                  8 Ball Pool           GAME     4.5   \n",
       "1680                          Angry Birds Classic           GAME     4.4   \n",
       "\n",
       "         Reviews  Size      Installs  Type  Price Content Rating  \\\n",
       "378   17712922.0  40.0  5.000000e+08  Free    0.0           Teen   \n",
       "1654  27722264.0  76.0  1.000000e+09  Free    0.0   Everyone 10+   \n",
       "1655  22426677.0  74.0  5.000000e+08  Free    0.0       Everyone   \n",
       "1660  23133508.0  97.0  1.000000e+08  Free    0.0   Everyone 10+   \n",
       "1661   8118609.0  62.0  5.000000e+08  Free    0.0       Everyone   \n",
       "1662  10485308.0  24.0  5.000000e+08  Free    0.0       Everyone   \n",
       "1668   6198563.0  67.0  1.000000e+08  Free    0.0       Everyone   \n",
       "1670  44891723.0  98.0  1.000000e+08  Free    0.0   Everyone 10+   \n",
       "1675  14198297.0  52.0  1.000000e+08  Free    0.0       Everyone   \n",
       "1680   5566669.0  97.0  1.000000e+08  Free    0.0       Everyone   \n",
       "\n",
       "             Genres    Last Updated  Current Ver   Android Ver  \n",
       "378   Communication  August 2, 2018  12.8.5.1121    4.0 and up  \n",
       "1654         Arcade   July 12, 2018       1.90.0    4.1 and up  \n",
       "1655         Casual    July 5, 2018    1.129.0.2    4.1 and up  \n",
       "1660       Strategy   June 27, 2018        2.3.2    4.1 and up  \n",
       "1661         Action    July 5, 2018       1.49.1    4.0 and up  \n",
       "1662         Casual    May 25, 2018       1.4.77    4.0 and up  \n",
       "1668         Casual   July 10, 2018      1.118.4    4.1 and up  \n",
       "1670       Strategy   July 15, 2018    10.322.16    4.1 and up  \n",
       "1675         Sports   July 31, 2018        4.0.0  4.0.3 and up  \n",
       "1680         Arcade    May 24, 2018        7.9.3    4.1 and up  "
      ]
     },
     "execution_count": 28,
     "metadata": {},
     "output_type": "execute_result"
    }
   ],
   "source": [
    "df[df['Reviews'] > 5500000].head(10)"
   ]
  },
  {
   "cell_type": "code",
   "execution_count": 29,
   "metadata": {},
   "outputs": [
    {
     "data": {
      "text/plain": [
       "<seaborn.axisgrid.JointGrid at 0x7efc996aed50>"
      ]
     },
     "execution_count": 29,
     "metadata": {},
     "output_type": "execute_result"
    },
    {
     "data": {
      "image/png": "[encoded data removed]",
      "text/plain": [
       "<Figure size 432x432 with 3 Axes>"
      ]
     },
     "metadata": {
      "needs_background": "light"
     },
     "output_type": "display_data"
    }
   ],
   "source": [
    "sns.jointplot(x = 'Installs' , y = 'Rating', data = df)"
   ]
  },
  {
   "cell_type": "code",
   "execution_count": 30,
   "metadata": {},
   "outputs": [
    {
     "data": {
      "text/plain": [
       "<seaborn.axisgrid.JointGrid at 0x7efc9940c490>"
      ]
     },
     "execution_count": 30,
     "metadata": {},
     "output_type": "execute_result"
    },
    {
     "data": {
      "image/png": "[encoded data removed]",
      "text/plain": [
       "<Figure size 432x432 with 3 Axes>"
      ]
     },
     "metadata": {
      "needs_background": "light"
     },
     "output_type": "display_data"
    }
   ],
   "source": [
    "sns.jointplot(x = 'Installs', y = 'Rating', data = df[df['Installs'] < 200000000])"
   ]
  },
  {
   "cell_type": "code",
   "execution_count": 31,
   "metadata": {},
   "outputs": [
    {
     "data": {
      "text/plain": [
       "App                       💎 I'm rich\n",
       "Category                     WEATHER\n",
       "Rating                             5\n",
       "Reviews                       408292\n",
       "Size                          988160\n",
       "Installs                       1e+07\n",
       "Type                            Paid\n",
       "Price                            400\n",
       "Content Rating                  Teen\n",
       "Genres                       Weather\n",
       "Last Updated       September 8, 2013\n",
       "Current Ver                       v3\n",
       "Android Ver       Varies with device\n",
       "dtype: object"
      ]
     },
     "execution_count": 31,
     "metadata": {},
     "output_type": "execute_result"
    }
   ],
   "source": [
    "df[df['Type']=='Paid'].max()"
   ]
  },
  {
   "cell_type": "code",
   "execution_count": 32,
   "metadata": {},
   "outputs": [
    {
     "data": {
      "text/plain": [
       "<seaborn.axisgrid.FacetGrid at 0x7efc99255790>"
      ]
     },
     "execution_count": 32,
     "metadata": {},
     "output_type": "execute_result"
    },
    {
     "data": {
      "image/png": "[encoded data removed]",
      "text/plain": [
       "<Figure size 418.125x360 with 1 Axes>"
      ]
     },
     "metadata": {
      "needs_background": "light"
     },
     "output_type": "display_data"
    }
   ],
   "source": [
    "# sns.jointplot(x = 'Installs', y ='Reviews', data = df)\n",
    "sns.lmplot(x = 'Installs', y = 'Reviews', data = df, hue = 'Type')"
   ]
  },
  {
   "cell_type": "markdown",
   "metadata": {},
   "source": [
    " # Category\n",
    "    "
   ]
  },
  {
   "cell_type": "code",
   "execution_count": 33,
   "metadata": {},
   "outputs": [
    {
     "data": {
      "text/plain": [
       "FAMILY             1511\n",
       "GAME                832\n",
       "TOOLS               625\n",
       "PERSONALIZATION     274\n",
       "LIFESTYLE           269\n",
       "MEDICAL             266\n",
       "FINANCE             258\n",
       "PRODUCTIVITY        223\n",
       "BUSINESS            222\n",
       "SPORTS              221\n",
       "Name: Category, dtype: int64"
      ]
     },
     "execution_count": 33,
     "metadata": {},
     "output_type": "execute_result"
    }
   ],
   "source": [
    "# df['Category'].nunique\n",
    "# df['Category'].unique\n",
    "df['Category'].value_counts().head(10)"
   ]
  },
  {
   "cell_type": "code",
   "execution_count": 53,
   "metadata": {
    "scrolled": true
   },
   "outputs": [
    {
     "data": {
      "text/html": [
       "<div>\n",
       "<style scoped>\n",
       "    .dataframe tbody tr th:only-of-type {\n",
       "        vertical-align: middle;\n",
       "    }\n",
       "\n",
       "    .dataframe tbody tr th {\n",
       "        vertical-align: top;\n",
       "    }\n",
       "\n",
       "    .dataframe thead th {\n",
       "        text-align: right;\n",
       "    }\n",
       "</style>\n",
       "<table border=\"1\" class=\"dataframe\">\n",
       "  <thead>\n",
       "    <tr style=\"text-align: right;\">\n",
       "      <th></th>\n",
       "      <th>App</th>\n",
       "      <th>Category</th>\n",
       "      <th>Rating</th>\n",
       "      <th>Reviews</th>\n",
       "      <th>Size</th>\n",
       "      <th>Installs</th>\n",
       "      <th>Type</th>\n",
       "      <th>Price</th>\n",
       "      <th>Content Rating</th>\n",
       "      <th>Genres</th>\n",
       "      <th>Last Updated</th>\n",
       "      <th>Current Ver</th>\n",
       "      <th>Android Ver</th>\n",
       "    </tr>\n",
       "  </thead>\n",
       "  <tbody>\n",
       "    <tr>\n",
       "      <td>319</td>\n",
       "      <td>Children's cartoons (Mithu-Mina-Raju)</td>\n",
       "      <td>COMICS</td>\n",
       "      <td>4.6</td>\n",
       "      <td>279.0</td>\n",
       "      <td>3.3</td>\n",
       "      <td>100000.0</td>\n",
       "      <td>Free</td>\n",
       "      <td>0.0</td>\n",
       "      <td>Everyone</td>\n",
       "      <td>Comics</td>\n",
       "      <td>December 18, 2017</td>\n",
       "      <td>1.6</td>\n",
       "      <td>4.0 and up</td>\n",
       "    </tr>\n",
       "    <tr>\n",
       "      <td>2148</td>\n",
       "      <td>Masha and the Bear Child Games</td>\n",
       "      <td>FAMILY</td>\n",
       "      <td>4.1</td>\n",
       "      <td>288523.0</td>\n",
       "      <td>92.0</td>\n",
       "      <td>10000000.0</td>\n",
       "      <td>Free</td>\n",
       "      <td>0.0</td>\n",
       "      <td>Everyone</td>\n",
       "      <td>Adventure;Education</td>\n",
       "      <td>May 8, 2018</td>\n",
       "      <td>2.7.4</td>\n",
       "      <td>4.0 and up</td>\n",
       "    </tr>\n",
       "    <tr>\n",
       "      <td>3608</td>\n",
       "      <td>Kids Fang - Infant Videos, Children's Songs, F...</td>\n",
       "      <td>PARENTING</td>\n",
       "      <td>4.6</td>\n",
       "      <td>349.0</td>\n",
       "      <td>4.4</td>\n",
       "      <td>100000.0</td>\n",
       "      <td>Free</td>\n",
       "      <td>0.0</td>\n",
       "      <td>Everyone</td>\n",
       "      <td>Parenting</td>\n",
       "      <td>March 21, 2018</td>\n",
       "      <td>1.7</td>\n",
       "      <td>4.4 and up</td>\n",
       "    </tr>\n",
       "    <tr>\n",
       "      <td>3617</td>\n",
       "      <td>My Child from eDziecko.pl</td>\n",
       "      <td>PARENTING</td>\n",
       "      <td>4.5</td>\n",
       "      <td>1025.0</td>\n",
       "      <td>17.0</td>\n",
       "      <td>100000.0</td>\n",
       "      <td>Free</td>\n",
       "      <td>0.0</td>\n",
       "      <td>Everyone</td>\n",
       "      <td>Parenting</td>\n",
       "      <td>June 29, 2018</td>\n",
       "      <td>1.3.9</td>\n",
       "      <td>4.1 and up</td>\n",
       "    </tr>\n",
       "    <tr>\n",
       "      <td>3624</td>\n",
       "      <td>Children's Stories 2018 - The Lion Come Lion</td>\n",
       "      <td>PARENTING</td>\n",
       "      <td>4.4</td>\n",
       "      <td>39.0</td>\n",
       "      <td>18.0</td>\n",
       "      <td>10000.0</td>\n",
       "      <td>Free</td>\n",
       "      <td>0.0</td>\n",
       "      <td>Everyone</td>\n",
       "      <td>Parenting;Music &amp; Video</td>\n",
       "      <td>October 31, 2017</td>\n",
       "      <td>1.2</td>\n",
       "      <td>4.0 and up</td>\n",
       "    </tr>\n",
       "  </tbody>\n",
       "</table>\n",
       "</div>"
      ],
      "text/plain": [
       "                                                    App   Category  Rating  \\\n",
       "319               Children's cartoons (Mithu-Mina-Raju)     COMICS     4.6   \n",
       "2148                     Masha and the Bear Child Games     FAMILY     4.1   \n",
       "3608  Kids Fang - Infant Videos, Children's Songs, F...  PARENTING     4.6   \n",
       "3617                          My Child from eDziecko.pl  PARENTING     4.5   \n",
       "3624       Children's Stories 2018 - The Lion Come Lion  PARENTING     4.4   \n",
       "\n",
       "       Reviews  Size    Installs  Type  Price Content Rating  \\\n",
       "319      279.0   3.3    100000.0  Free    0.0       Everyone   \n",
       "2148  288523.0  92.0  10000000.0  Free    0.0       Everyone   \n",
       "3608     349.0   4.4    100000.0  Free    0.0       Everyone   \n",
       "3617    1025.0  17.0    100000.0  Free    0.0       Everyone   \n",
       "3624      39.0  18.0     10000.0  Free    0.0       Everyone   \n",
       "\n",
       "                       Genres       Last Updated Current Ver Android Ver  \n",
       "319                    Comics  December 18, 2017         1.6  4.0 and up  \n",
       "2148      Adventure;Education        May 8, 2018       2.7.4  4.0 and up  \n",
       "3608                Parenting     March 21, 2018         1.7  4.4 and up  \n",
       "3617                Parenting      June 29, 2018       1.3.9  4.1 and up  \n",
       "3624  Parenting;Music & Video   October 31, 2017         1.2  4.0 and up  "
      ]
     },
     "execution_count": 53,
     "metadata": {},
     "output_type": "execute_result"
    }
   ],
   "source": [
    "df[df[\"App\"].str.contains(\"child\".capitalize())]\n",
    "   \n",
    "    \n",
    "    "
   ]
  },
  {
   "cell_type": "code",
   "execution_count": 54,
   "metadata": {},
   "outputs": [
    {
     "data": {
      "text/plain": [
       "0           Photo editor & candy camera & grid & scrapbook\n",
       "1                                      Coloring book moana\n",
       "2        U launcher lite – free live cool themes, hide ...\n",
       "3                                    Sketch - draw & paint\n",
       "4                    Pixel draw - number art coloring book\n",
       "                               ...                        \n",
       "10833                                          Chemin (fr)\n",
       "10834                                        Fr calculator\n",
       "10836                                     Sya9a maroc - fr\n",
       "10837                     Fr. mike schmitz audio teachings\n",
       "10840        Ihoroscope - 2018 daily horoscope & astrology\n",
       "Name: App, Length: 7022, dtype: object"
      ]
     },
     "execution_count": 54,
     "metadata": {},
     "output_type": "execute_result"
    }
   ],
   "source": [
    "df[\"App\"].str.capitalize()"
   ]
  },
  {
   "cell_type": "code",
   "execution_count": null,
   "metadata": {},
   "outputs": [],
   "source": []
  }
 ],
 "metadata": {
  "kernelspec": {
   "display_name": "Python 3",
   "language": "python",
   "name": "python3"
  },
  "language_info": {
   "codemirror_mode": {
    "name": "ipython",
    "version": 3
   },
   "file_extension": ".py",
   "mimetype": "text/x-python",
   "name": "python",
   "nbconvert_exporter": "python",
   "pygments_lexer": "ipython3",
   "version": "3.7.4"
  }
 },
 "nbformat": 4,
 "nbformat_minor": 2
}
